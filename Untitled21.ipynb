{
 "cells": [
  {
   "cell_type": "code",
   "execution_count": 1,
   "metadata": {},
   "outputs": [],
   "source": [
    "import pandas as pd\n",
    "import numpy as np\n",
    "import sqlalchemy as db\n",
    "import pyodbc\n",
    "#import pymssql\n",
    "from sqlalchemy import *\n",
    "from sqlalchemy import Table, MetaData, Column, Integer\n",
    "from sqlalchemy import create_engine\n",
    "from sqlalchemy.types import TypeDecorator, Numeric\n",
    "import datetime"
   ]
  },
  {
   "cell_type": "code",
   "execution_count": 2,
   "metadata": {},
   "outputs": [
    {
     "data": {
      "text/plain": [
       "<pyodbc.Connection at 0x1dc0bc6d780>"
      ]
     },
     "execution_count": 2,
     "metadata": {},
     "output_type": "execute_result"
    }
   ],
   "source": [
    "conn = pyodbc.connect(r'Driver={SQL Server};Server=pgi-m2m;Database=M2Mdata25;Trusted_Connection=yes;')\n",
    "conn"
   ]
  },
  {
   "cell_type": "code",
   "execution_count": 3,
   "metadata": {},
   "outputs": [
    {
     "data": {
      "text/plain": [
       "<pyodbc.Cursor at 0x1dc0e9f0b70>"
      ]
     },
     "execution_count": 3,
     "metadata": {},
     "output_type": "execute_result"
    }
   ],
   "source": [
    "cursor = conn.cursor()\n",
    "#cursor.execute(\"SELECT fpartno, fqty, ftype, fctime_ts, FFROMLOC, FFROMFAC, FMATL, FUSERINFO, FTOBIN FROM intran\")\n",
    "cursor.execute(\"SELECT fpartno, fonhand, fbinno, flocation, flot, fac FROM inonhd\")"
   ]
  },
  {
   "cell_type": "code",
   "execution_count": 4,
   "metadata": {},
   "outputs": [
    {
     "data": {
      "text/html": [
       "<div>\n",
       "<style scoped>\n",
       "    .dataframe tbody tr th:only-of-type {\n",
       "        vertical-align: middle;\n",
       "    }\n",
       "\n",
       "    .dataframe tbody tr th {\n",
       "        vertical-align: top;\n",
       "    }\n",
       "\n",
       "    .dataframe thead th {\n",
       "        text-align: right;\n",
       "    }\n",
       "</style>\n",
       "<table border=\"1\" class=\"dataframe\">\n",
       "  <thead>\n",
       "    <tr style=\"text-align: right;\">\n",
       "      <th></th>\n",
       "      <th>fpartno</th>\n",
       "      <th>lot</th>\n",
       "      <th>fqty</th>\n",
       "    </tr>\n",
       "  </thead>\n",
       "  <tbody>\n",
       "    <tr>\n",
       "      <th>0</th>\n",
       "      <td>21160-LF</td>\n",
       "      <td>2H1</td>\n",
       "      <td>20</td>\n",
       "    </tr>\n",
       "  </tbody>\n",
       "</table>\n",
       "</div>"
      ],
      "text/plain": [
       "    fpartno  lot  fqty\n",
       "0  21160-LF  2H1    20"
      ]
     },
     "execution_count": 4,
     "metadata": {},
     "output_type": "execute_result"
    }
   ],
   "source": [
    "from crontab import CronTab\n",
    "import csv\n",
    "\n",
    "df = pd.read_csv('itemized cron.txt', sep='\\t',  lineterminator='\\n', names=None)\n",
    "df\n",
    "df.rename(columns={  \n",
    "    'item' : 'fpartno',\n",
    "    'qty\\r' : 'fqty'\n",
    "    \n",
    "}, inplace = True)\n",
    "df"
   ]
  },
  {
   "cell_type": "code",
   "execution_count": 1,
   "metadata": {},
   "outputs": [
    {
     "ename": "NameError",
     "evalue": "name 'df' is not defined",
     "output_type": "error",
     "traceback": [
      "\u001b[1;31m---------------------------------------------------------------------------\u001b[0m",
      "\u001b[1;31mNameError\u001b[0m                                 Traceback (most recent call last)",
      "\u001b[1;32m<ipython-input-1-8d94b447ab9f>\u001b[0m in \u001b[0;36m<module>\u001b[1;34m\u001b[0m\n\u001b[1;32m----> 1\u001b[1;33m \u001b[0mitem\u001b[0m \u001b[1;33m=\u001b[0m \u001b[0mdf\u001b[0m\u001b[1;33m.\u001b[0m\u001b[0miloc\u001b[0m\u001b[1;33m[\u001b[0m\u001b[1;36m0\u001b[0m\u001b[1;33m,\u001b[0m \u001b[1;36m0\u001b[0m\u001b[1;33m]\u001b[0m\u001b[1;33m\u001b[0m\u001b[1;33m\u001b[0m\u001b[0m\n\u001b[0m\u001b[0;32m      2\u001b[0m \u001b[0mqty\u001b[0m \u001b[1;33m=\u001b[0m \u001b[0mdf\u001b[0m\u001b[1;33m.\u001b[0m\u001b[0miloc\u001b[0m\u001b[1;33m[\u001b[0m\u001b[1;36m0\u001b[0m\u001b[1;33m,\u001b[0m \u001b[1;36m2\u001b[0m\u001b[1;33m]\u001b[0m\u001b[1;33m\u001b[0m\u001b[1;33m\u001b[0m\u001b[0m\n\u001b[0;32m      3\u001b[0m \u001b[1;31m#lot = df.iloc[0, 1]\u001b[0m\u001b[1;33m\u001b[0m\u001b[1;33m\u001b[0m\u001b[1;33m\u001b[0m\u001b[0m\n\u001b[0;32m      4\u001b[0m \u001b[0mCurrent_Date\u001b[0m \u001b[1;33m=\u001b[0m \u001b[0mdatetime\u001b[0m\u001b[1;33m.\u001b[0m\u001b[0mdatetime\u001b[0m\u001b[1;33m.\u001b[0m\u001b[0mtoday\u001b[0m\u001b[1;33m(\u001b[0m\u001b[1;33m)\u001b[0m\u001b[1;33m\u001b[0m\u001b[1;33m\u001b[0m\u001b[0m\n",
      "\u001b[1;31mNameError\u001b[0m: name 'df' is not defined"
     ]
    }
   ],
   "source": [
    "item = df.iloc[0, 0]\n",
    "qty = df.iloc[0, 2]\n",
    "#lot = df.iloc[0, 1]\n",
    "Current_Date = datetime.datetime.today()\n"
   ]
  },
  {
   "cell_type": "code",
   "execution_count": 6,
   "metadata": {},
   "outputs": [
    {
     "data": {
      "text/plain": [
       "'21160-LF'"
      ]
     },
     "execution_count": 6,
     "metadata": {},
     "output_type": "execute_result"
    }
   ],
   "source": [
    "item"
   ]
  },
  {
   "cell_type": "code",
   "execution_count": 7,
   "metadata": {},
   "outputs": [],
   "source": [
    "#cursor.execute(\"inonhd\").where 'fpartno' : item, \"flocation\"= JUKI).update({\"FQTY:\", qty}   "
   ]
  },
  {
   "cell_type": "code",
   "execution_count": 8,
   "metadata": {},
   "outputs": [
    {
     "data": {
      "text/plain": [
       "<pyodbc.Cursor at 0x1dc0e9f0b70>"
      ]
     },
     "execution_count": 8,
     "metadata": {},
     "output_type": "execute_result"
    }
   ],
   "source": [
    "#cursor.execute(\"SELECT (fpartno) inonhd (?)\", ('21160-LF'))\n",
    "#cursor.execute(\"SELECT * FROM dbo.InOnHd WHERE fpartno = 'item' AND fbinno = 'JUKI' AND flocation = 'JUKI' AND flot = 'JUKI'\").\n",
    "cursor.execute(f\"update inonhd SET fonhand='{qty}' WHERE fpartno = '{item}' AND fbinno = 'JUKI' AND flocation = 'JUKI' AND flot = 'JUKI'\")"
   ]
  },
  {
   "cell_type": "code",
   "execution_count": 11,
   "metadata": {},
   "outputs": [
    {
     "name": "stdout",
     "output_type": "stream",
     "text": [
      "hello 20 world\n"
     ]
    }
   ],
   "source": [
    "# string concatenation\n",
    "print(\"hello \" + str(qty)+ \" world\")"
   ]
  },
  {
   "cell_type": "code",
   "execution_count": 13,
   "metadata": {},
   "outputs": [
    {
     "name": "stdout",
     "output_type": "stream",
     "text": [
      "update inonhd SET fonhand='20' WHERE fpartno = '21160-LF' AND fbinno = 'JUKI' AND flocation = 'JUKI' AND flot = 'JUKI'\n"
     ]
    }
   ],
   "source": [
    "# string concatenation 2\n",
    "print(\"update inonhd SET fonhand='\" + str(qty) + \"' WHERE fpartno = '\"+ str(item) +\"' AND fbinno = 'JUKI' AND flocation = 'JUKI' AND flot = 'JUKI'\")"
   ]
  },
  {
   "cell_type": "code",
   "execution_count": 14,
   "metadata": {},
   "outputs": [
    {
     "name": "stdout",
     "output_type": "stream",
     "text": [
      "update inonhd SET fonhand='20' WHERE fpartno = '21160-LF' AND fbinno = 'JUKI' AND flocation = 'JUKI' AND flot = 'JUKI'\n"
     ]
    }
   ],
   "source": [
    "# string Format\n",
    "print(\"update inonhd SET fonhand='{}' WHERE fpartno = '{}' AND fbinno = 'JUKI' AND flocation = 'JUKI' AND flot = 'JUKI'\".format(qty, item))"
   ]
  },
  {
   "cell_type": "code",
   "execution_count": 16,
   "metadata": {},
   "outputs": [
    {
     "name": "stdout",
     "output_type": "stream",
     "text": [
      "hello 20 world\n"
     ]
    }
   ],
   "source": [
    "# string Format 2\n",
    "print(\"hello {} world\".format(qty))"
   ]
  },
  {
   "cell_type": "code",
   "execution_count": 18,
   "metadata": {},
   "outputs": [
    {
     "name": "stdout",
     "output_type": "stream",
     "text": [
      "update inonhd SET fonhand='20' WHERE fpartno = '21160-LF' AND fbinno = 'JUKI' AND flocation = 'JUKI' AND flot = 'JUKI'\n"
     ]
    }
   ],
   "source": [
    "# string interpolation\n",
    "print(f\"update inonhd SET fonhand='{qty}' WHERE fpartno = '{item}' AND fbinno = 'JUKI' AND flocation = 'JUKI' AND flot = 'JUKI'\")"
   ]
  },
  {
   "cell_type": "code",
   "execution_count": 10,
   "metadata": {},
   "outputs": [],
   "source": [
    "conn.commit()"
   ]
  },
  {
   "cell_type": "code",
   "execution_count": null,
   "metadata": {},
   "outputs": [],
   "source": []
  }
 ],
 "metadata": {
  "kernelspec": {
   "display_name": "Python 3",
   "language": "python",
   "name": "python3"
  },
  "language_info": {
   "codemirror_mode": {
    "name": "ipython",
    "version": 3
   },
   "file_extension": ".py",
   "mimetype": "text/x-python",
   "name": "python",
   "nbconvert_exporter": "python",
   "pygments_lexer": "ipython3",
   "version": "3.7.3"
  }
 },
 "nbformat": 4,
 "nbformat_minor": 2
}
