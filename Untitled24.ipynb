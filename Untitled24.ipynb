{
 "cells": [
  {
   "cell_type": "code",
   "execution_count": 1,
   "metadata": {},
   "outputs": [],
   "source": [
    "import requests \n",
    "from requests.auth import HTTPDigestAuth\n",
    "import pandas as pd\n",
    "import numpy as np\n",
    "from sqlalchemy import create_engine\n",
    "import pyodbc \n",
    "db = pyodbc.connect('Driver={SQL Server};'\n",
    "                      'Server=PGI-M2M;'\n",
    "                      'Database=M2MDATA25;'\n",
    "                      'Trusted_Connection=yes;')"
   ]
  },
  {
   "cell_type": "code",
   "execution_count": 2,
   "metadata": {},
   "outputs": [
    {
     "ename": "DatabaseError",
     "evalue": "Execution failed on sql 'SELECT fpartno, fdescript, frev, fsource, fprodcl FROM inonhand': ('42S02', \"[42S02] [Microsoft][ODBC SQL Server Driver][SQL Server]Invalid object name 'inonhand'. (208) (SQLExecDirectW)\")",
     "output_type": "error",
     "traceback": [
      "\u001b[1;31m---------------------------------------------------------------------------\u001b[0m",
      "\u001b[1;31mProgrammingError\u001b[0m                          Traceback (most recent call last)",
      "\u001b[1;32m~\\AppData\\Local\\Continuum\\lib\\site-packages\\pandas\\io\\sql.py\u001b[0m in \u001b[0;36mexecute\u001b[1;34m(self, *args, **kwargs)\u001b[0m\n\u001b[0;32m   1430\u001b[0m             \u001b[1;32melse\u001b[0m\u001b[1;33m:\u001b[0m\u001b[1;33m\u001b[0m\u001b[1;33m\u001b[0m\u001b[0m\n\u001b[1;32m-> 1431\u001b[1;33m                 \u001b[0mcur\u001b[0m\u001b[1;33m.\u001b[0m\u001b[0mexecute\u001b[0m\u001b[1;33m(\u001b[0m\u001b[1;33m*\u001b[0m\u001b[0margs\u001b[0m\u001b[1;33m)\u001b[0m\u001b[1;33m\u001b[0m\u001b[1;33m\u001b[0m\u001b[0m\n\u001b[0m\u001b[0;32m   1432\u001b[0m             \u001b[1;32mreturn\u001b[0m \u001b[0mcur\u001b[0m\u001b[1;33m\u001b[0m\u001b[1;33m\u001b[0m\u001b[0m\n",
      "\u001b[1;31mProgrammingError\u001b[0m: ('42S02', \"[42S02] [Microsoft][ODBC SQL Server Driver][SQL Server]Invalid object name 'inonhand'. (208) (SQLExecDirectW)\")",
      "\nDuring handling of the above exception, another exception occurred:\n",
      "\u001b[1;31mDatabaseError\u001b[0m                             Traceback (most recent call last)",
      "\u001b[1;32m<ipython-input-2-a275899b19f4>\u001b[0m in \u001b[0;36m<module>\u001b[1;34m\u001b[0m\n\u001b[0;32m      4\u001b[0m \u001b[1;33m\u001b[0m\u001b[0m\n\u001b[0;32m      5\u001b[0m \u001b[1;31m#query = 'select fpartno, fpartrev, flot, fonhand, flocation from dbo.inonhd'\u001b[0m\u001b[1;33m\u001b[0m\u001b[1;33m\u001b[0m\u001b[1;33m\u001b[0m\u001b[0m\n\u001b[1;32m----> 6\u001b[1;33m \u001b[0mv\u001b[0m \u001b[1;33m=\u001b[0m \u001b[0mpd\u001b[0m\u001b[1;33m.\u001b[0m\u001b[0mread_sql_query\u001b[0m\u001b[1;33m(\u001b[0m\u001b[0mquery\u001b[0m \u001b[1;33m,\u001b[0m \u001b[0mdb\u001b[0m\u001b[1;33m)\u001b[0m\u001b[1;33m\u001b[0m\u001b[1;33m\u001b[0m\u001b[0m\n\u001b[0m\u001b[0;32m      7\u001b[0m \u001b[0mv\u001b[0m\u001b[1;33m[\u001b[0m\u001b[1;34m'fpartno'\u001b[0m\u001b[1;33m]\u001b[0m \u001b[1;33m=\u001b[0m \u001b[0mv\u001b[0m\u001b[1;33m[\u001b[0m\u001b[1;34m'fpartno'\u001b[0m\u001b[1;33m]\u001b[0m\u001b[1;33m.\u001b[0m\u001b[0mstr\u001b[0m\u001b[1;33m.\u001b[0m\u001b[0mreplace\u001b[0m\u001b[1;33m(\u001b[0m\u001b[1;34m' '\u001b[0m\u001b[1;33m,\u001b[0m \u001b[1;34m''\u001b[0m\u001b[1;33m)\u001b[0m\u001b[1;33m\u001b[0m\u001b[1;33m\u001b[0m\u001b[0m\n\u001b[0;32m      8\u001b[0m \u001b[0mv\u001b[0m\u001b[1;33m[\u001b[0m\u001b[1;34m'flot'\u001b[0m\u001b[1;33m]\u001b[0m \u001b[1;33m=\u001b[0m \u001b[0mv\u001b[0m\u001b[1;33m[\u001b[0m\u001b[1;34m'flot'\u001b[0m\u001b[1;33m]\u001b[0m\u001b[1;33m.\u001b[0m\u001b[0mstr\u001b[0m\u001b[1;33m.\u001b[0m\u001b[0mreplace\u001b[0m\u001b[1;33m(\u001b[0m\u001b[1;34m' '\u001b[0m\u001b[1;33m,\u001b[0m \u001b[1;34m''\u001b[0m\u001b[1;33m)\u001b[0m\u001b[1;33m\u001b[0m\u001b[1;33m\u001b[0m\u001b[0m\n",
      "\u001b[1;32m~\\AppData\\Local\\Continuum\\lib\\site-packages\\pandas\\io\\sql.py\u001b[0m in \u001b[0;36mread_sql_query\u001b[1;34m(sql, con, index_col, coerce_float, params, parse_dates, chunksize)\u001b[0m\n\u001b[0;32m    312\u001b[0m     return pandas_sql.read_query(\n\u001b[0;32m    313\u001b[0m         \u001b[0msql\u001b[0m\u001b[1;33m,\u001b[0m \u001b[0mindex_col\u001b[0m\u001b[1;33m=\u001b[0m\u001b[0mindex_col\u001b[0m\u001b[1;33m,\u001b[0m \u001b[0mparams\u001b[0m\u001b[1;33m=\u001b[0m\u001b[0mparams\u001b[0m\u001b[1;33m,\u001b[0m \u001b[0mcoerce_float\u001b[0m\u001b[1;33m=\u001b[0m\u001b[0mcoerce_float\u001b[0m\u001b[1;33m,\u001b[0m\u001b[1;33m\u001b[0m\u001b[1;33m\u001b[0m\u001b[0m\n\u001b[1;32m--> 314\u001b[1;33m         parse_dates=parse_dates, chunksize=chunksize)\n\u001b[0m\u001b[0;32m    315\u001b[0m \u001b[1;33m\u001b[0m\u001b[0m\n\u001b[0;32m    316\u001b[0m \u001b[1;33m\u001b[0m\u001b[0m\n",
      "\u001b[1;32m~\\AppData\\Local\\Continuum\\lib\\site-packages\\pandas\\io\\sql.py\u001b[0m in \u001b[0;36mread_query\u001b[1;34m(self, sql, index_col, coerce_float, params, parse_dates, chunksize)\u001b[0m\n\u001b[0;32m   1466\u001b[0m \u001b[1;33m\u001b[0m\u001b[0m\n\u001b[0;32m   1467\u001b[0m         \u001b[0margs\u001b[0m \u001b[1;33m=\u001b[0m \u001b[0m_convert_params\u001b[0m\u001b[1;33m(\u001b[0m\u001b[0msql\u001b[0m\u001b[1;33m,\u001b[0m \u001b[0mparams\u001b[0m\u001b[1;33m)\u001b[0m\u001b[1;33m\u001b[0m\u001b[1;33m\u001b[0m\u001b[0m\n\u001b[1;32m-> 1468\u001b[1;33m         \u001b[0mcursor\u001b[0m \u001b[1;33m=\u001b[0m \u001b[0mself\u001b[0m\u001b[1;33m.\u001b[0m\u001b[0mexecute\u001b[0m\u001b[1;33m(\u001b[0m\u001b[1;33m*\u001b[0m\u001b[0margs\u001b[0m\u001b[1;33m)\u001b[0m\u001b[1;33m\u001b[0m\u001b[1;33m\u001b[0m\u001b[0m\n\u001b[0m\u001b[0;32m   1469\u001b[0m         \u001b[0mcolumns\u001b[0m \u001b[1;33m=\u001b[0m \u001b[1;33m[\u001b[0m\u001b[0mcol_desc\u001b[0m\u001b[1;33m[\u001b[0m\u001b[1;36m0\u001b[0m\u001b[1;33m]\u001b[0m \u001b[1;32mfor\u001b[0m \u001b[0mcol_desc\u001b[0m \u001b[1;32min\u001b[0m \u001b[0mcursor\u001b[0m\u001b[1;33m.\u001b[0m\u001b[0mdescription\u001b[0m\u001b[1;33m]\u001b[0m\u001b[1;33m\u001b[0m\u001b[1;33m\u001b[0m\u001b[0m\n\u001b[0;32m   1470\u001b[0m \u001b[1;33m\u001b[0m\u001b[0m\n",
      "\u001b[1;32m~\\AppData\\Local\\Continuum\\lib\\site-packages\\pandas\\io\\sql.py\u001b[0m in \u001b[0;36mexecute\u001b[1;34m(self, *args, **kwargs)\u001b[0m\n\u001b[0;32m   1443\u001b[0m                 \"Execution failed on sql '{sql}': {exc}\".format(\n\u001b[0;32m   1444\u001b[0m                     sql=args[0], exc=exc))\n\u001b[1;32m-> 1445\u001b[1;33m             \u001b[0mraise_with_traceback\u001b[0m\u001b[1;33m(\u001b[0m\u001b[0mex\u001b[0m\u001b[1;33m)\u001b[0m\u001b[1;33m\u001b[0m\u001b[1;33m\u001b[0m\u001b[0m\n\u001b[0m\u001b[0;32m   1446\u001b[0m \u001b[1;33m\u001b[0m\u001b[0m\n\u001b[0;32m   1447\u001b[0m     \u001b[1;33m@\u001b[0m\u001b[0mstaticmethod\u001b[0m\u001b[1;33m\u001b[0m\u001b[1;33m\u001b[0m\u001b[0m\n",
      "\u001b[1;32m~\\AppData\\Local\\Continuum\\lib\\site-packages\\pandas\\compat\\__init__.py\u001b[0m in \u001b[0;36mraise_with_traceback\u001b[1;34m(exc, traceback)\u001b[0m\n\u001b[0;32m    418\u001b[0m         \u001b[1;32mif\u001b[0m \u001b[0mtraceback\u001b[0m \u001b[1;33m==\u001b[0m \u001b[0mEllipsis\u001b[0m\u001b[1;33m:\u001b[0m\u001b[1;33m\u001b[0m\u001b[1;33m\u001b[0m\u001b[0m\n\u001b[0;32m    419\u001b[0m             \u001b[0m_\u001b[0m\u001b[1;33m,\u001b[0m \u001b[0m_\u001b[0m\u001b[1;33m,\u001b[0m \u001b[0mtraceback\u001b[0m \u001b[1;33m=\u001b[0m \u001b[0msys\u001b[0m\u001b[1;33m.\u001b[0m\u001b[0mexc_info\u001b[0m\u001b[1;33m(\u001b[0m\u001b[1;33m)\u001b[0m\u001b[1;33m\u001b[0m\u001b[1;33m\u001b[0m\u001b[0m\n\u001b[1;32m--> 420\u001b[1;33m         \u001b[1;32mraise\u001b[0m \u001b[0mexc\u001b[0m\u001b[1;33m.\u001b[0m\u001b[0mwith_traceback\u001b[0m\u001b[1;33m(\u001b[0m\u001b[0mtraceback\u001b[0m\u001b[1;33m)\u001b[0m\u001b[1;33m\u001b[0m\u001b[1;33m\u001b[0m\u001b[0m\n\u001b[0m\u001b[0;32m    421\u001b[0m \u001b[1;32melse\u001b[0m\u001b[1;33m:\u001b[0m\u001b[1;33m\u001b[0m\u001b[1;33m\u001b[0m\u001b[0m\n\u001b[0;32m    422\u001b[0m     \u001b[1;31m# this version of raise is a syntax error in Python 3\u001b[0m\u001b[1;33m\u001b[0m\u001b[1;33m\u001b[0m\u001b[1;33m\u001b[0m\u001b[0m\n",
      "\u001b[1;32m~\\AppData\\Local\\Continuum\\lib\\site-packages\\pandas\\io\\sql.py\u001b[0m in \u001b[0;36mexecute\u001b[1;34m(self, *args, **kwargs)\u001b[0m\n\u001b[0;32m   1429\u001b[0m                 \u001b[0mcur\u001b[0m\u001b[1;33m.\u001b[0m\u001b[0mexecute\u001b[0m\u001b[1;33m(\u001b[0m\u001b[1;33m*\u001b[0m\u001b[0margs\u001b[0m\u001b[1;33m,\u001b[0m \u001b[1;33m**\u001b[0m\u001b[0mkwargs\u001b[0m\u001b[1;33m)\u001b[0m\u001b[1;33m\u001b[0m\u001b[1;33m\u001b[0m\u001b[0m\n\u001b[0;32m   1430\u001b[0m             \u001b[1;32melse\u001b[0m\u001b[1;33m:\u001b[0m\u001b[1;33m\u001b[0m\u001b[1;33m\u001b[0m\u001b[0m\n\u001b[1;32m-> 1431\u001b[1;33m                 \u001b[0mcur\u001b[0m\u001b[1;33m.\u001b[0m\u001b[0mexecute\u001b[0m\u001b[1;33m(\u001b[0m\u001b[1;33m*\u001b[0m\u001b[0margs\u001b[0m\u001b[1;33m)\u001b[0m\u001b[1;33m\u001b[0m\u001b[1;33m\u001b[0m\u001b[0m\n\u001b[0m\u001b[0;32m   1432\u001b[0m             \u001b[1;32mreturn\u001b[0m \u001b[0mcur\u001b[0m\u001b[1;33m\u001b[0m\u001b[1;33m\u001b[0m\u001b[0m\n\u001b[0;32m   1433\u001b[0m         \u001b[1;32mexcept\u001b[0m \u001b[0mException\u001b[0m \u001b[1;32mas\u001b[0m \u001b[0mexc\u001b[0m\u001b[1;33m:\u001b[0m\u001b[1;33m\u001b[0m\u001b[1;33m\u001b[0m\u001b[0m\n",
      "\u001b[1;31mDatabaseError\u001b[0m: Execution failed on sql 'SELECT fpartno, fdescript, frev, fsource, fprodcl FROM inonhand': ('42S02', \"[42S02] [Microsoft][ODBC SQL Server Driver][SQL Server]Invalid object name 'inonhand'. (208) (SQLExecDirectW)\")"
     ]
    }
   ],
   "source": [
    "query = 'SELECT fpartno, fdescript, frev, fsource, fprodcl FROM inonhand'\n",
    "\n",
    "\n",
    "\n",
    "#query = 'select fpartno, fpartrev, flot, fonhand, flocation from dbo.inonhd'\n",
    "v = pd.read_sql_query(query , db)\n",
    "v['fpartno'] = v['fpartno'].str.replace(' ', '')\n",
    "v['flot'] = v['flot'].str.replace(' ', '')\n",
    "v['fonhand'] = v['fonhand'].replace(' ', '')\n",
    "v['fpartrev'] = v['fpartrev'].replace(' ', '')\n",
    "v['flocation'] = v['flocation'].replace(' ', '')\n",
    "v['fsource'] = v['fsource'].replace(' ', '')\n",
    "\n",
    "\n",
    "v.replace('', np.nan, inplace=True)\n",
    "v.applymap(lambda x: x.rstrip() if type(x)==str else x)\n",
    "v = v[pd.notnull(v['flot'])]\n",
    "v = v.drop_duplicates('flot',keep = 'first')"
   ]
  },
  {
   "cell_type": "code",
   "execution_count": null,
   "metadata": {},
   "outputs": [],
   "source": []
  },
  {
   "cell_type": "code",
   "execution_count": 8,
   "metadata": {},
   "outputs": [
    {
     "data": {
      "text/html": [
       "<div>\n",
       "<style scoped>\n",
       "    .dataframe tbody tr th:only-of-type {\n",
       "        vertical-align: middle;\n",
       "    }\n",
       "\n",
       "    .dataframe tbody tr th {\n",
       "        vertical-align: top;\n",
       "    }\n",
       "\n",
       "    .dataframe thead th {\n",
       "        text-align: right;\n",
       "    }\n",
       "</style>\n",
       "<table border=\"1\" class=\"dataframe\">\n",
       "  <thead>\n",
       "    <tr style=\"text-align: right;\">\n",
       "      <th></th>\n",
       "      <th>fpartno</th>\n",
       "      <th>fpartrev</th>\n",
       "      <th>flot</th>\n",
       "      <th>fonhand</th>\n",
       "      <th>flocation</th>\n",
       "    </tr>\n",
       "  </thead>\n",
       "  <tbody>\n",
       "    <tr>\n",
       "      <th>10462</th>\n",
       "      <td>100372-LF</td>\n",
       "      <td></td>\n",
       "      <td>PG1</td>\n",
       "      <td>1.0</td>\n",
       "      <td>SR</td>\n",
       "    </tr>\n",
       "    <tr>\n",
       "      <th>10691</th>\n",
       "      <td>240476-LF</td>\n",
       "      <td></td>\n",
       "      <td>13</td>\n",
       "      <td>1000.0</td>\n",
       "      <td>SR</td>\n",
       "    </tr>\n",
       "    <tr>\n",
       "      <th>10692</th>\n",
       "      <td>42023-LF</td>\n",
       "      <td></td>\n",
       "      <td>1C</td>\n",
       "      <td>390.0</td>\n",
       "      <td>SR</td>\n",
       "    </tr>\n",
       "    <tr>\n",
       "      <th>10693</th>\n",
       "      <td>24489-LF</td>\n",
       "      <td></td>\n",
       "      <td>MW62620181130</td>\n",
       "      <td>28.0</td>\n",
       "      <td>SR</td>\n",
       "    </tr>\n",
       "    <tr>\n",
       "      <th>10694</th>\n",
       "      <td>42343-LF</td>\n",
       "      <td></td>\n",
       "      <td>1G</td>\n",
       "      <td>2.0</td>\n",
       "      <td>SR</td>\n",
       "    </tr>\n",
       "  </tbody>\n",
       "</table>\n",
       "</div>"
      ],
      "text/plain": [
       "         fpartno fpartrev           flot  fonhand       flocation\n",
       "10462  100372-LF                     PG1      1.0  SR            \n",
       "10691  240476-LF                      13   1000.0  SR            \n",
       "10692   42023-LF                      1C    390.0  SR            \n",
       "10693   24489-LF           MW62620181130     28.0  SR            \n",
       "10694   42343-LF                      1G      2.0  SR            "
      ]
     },
     "execution_count": 8,
     "metadata": {},
     "output_type": "execute_result"
    }
   ],
   "source": [
    "v.head()"
   ]
  },
  {
   "cell_type": "code",
   "execution_count": null,
   "metadata": {},
   "outputs": [],
   "source": []
  },
  {
   "cell_type": "code",
   "execution_count": 9,
   "metadata": {},
   "outputs": [
    {
     "ename": "KeyError",
     "evalue": "'fsource'",
     "output_type": "error",
     "traceback": [
      "\u001b[1;31m---------------------------------------------------------------------------\u001b[0m",
      "\u001b[1;31mKeyError\u001b[0m                                  Traceback (most recent call last)",
      "\u001b[1;32m~\\AppData\\Local\\Continuum\\lib\\site-packages\\pandas\\core\\indexes\\base.py\u001b[0m in \u001b[0;36mget_loc\u001b[1;34m(self, key, method, tolerance)\u001b[0m\n\u001b[0;32m   2656\u001b[0m             \u001b[1;32mtry\u001b[0m\u001b[1;33m:\u001b[0m\u001b[1;33m\u001b[0m\u001b[1;33m\u001b[0m\u001b[0m\n\u001b[1;32m-> 2657\u001b[1;33m                 \u001b[1;32mreturn\u001b[0m \u001b[0mself\u001b[0m\u001b[1;33m.\u001b[0m\u001b[0m_engine\u001b[0m\u001b[1;33m.\u001b[0m\u001b[0mget_loc\u001b[0m\u001b[1;33m(\u001b[0m\u001b[0mkey\u001b[0m\u001b[1;33m)\u001b[0m\u001b[1;33m\u001b[0m\u001b[1;33m\u001b[0m\u001b[0m\n\u001b[0m\u001b[0;32m   2658\u001b[0m             \u001b[1;32mexcept\u001b[0m \u001b[0mKeyError\u001b[0m\u001b[1;33m:\u001b[0m\u001b[1;33m\u001b[0m\u001b[1;33m\u001b[0m\u001b[0m\n",
      "\u001b[1;32mpandas/_libs/index.pyx\u001b[0m in \u001b[0;36mpandas._libs.index.IndexEngine.get_loc\u001b[1;34m()\u001b[0m\n",
      "\u001b[1;32mpandas/_libs/index.pyx\u001b[0m in \u001b[0;36mpandas._libs.index.IndexEngine.get_loc\u001b[1;34m()\u001b[0m\n",
      "\u001b[1;32mpandas/_libs/hashtable_class_helper.pxi\u001b[0m in \u001b[0;36mpandas._libs.hashtable.PyObjectHashTable.get_item\u001b[1;34m()\u001b[0m\n",
      "\u001b[1;32mpandas/_libs/hashtable_class_helper.pxi\u001b[0m in \u001b[0;36mpandas._libs.hashtable.PyObjectHashTable.get_item\u001b[1;34m()\u001b[0m\n",
      "\u001b[1;31mKeyError\u001b[0m: 'fsource'",
      "\nDuring handling of the above exception, another exception occurred:\n",
      "\u001b[1;31mKeyError\u001b[0m                                  Traceback (most recent call last)",
      "\u001b[1;32m<ipython-input-9-adccd00e1cf1>\u001b[0m in \u001b[0;36m<module>\u001b[1;34m\u001b[0m\n\u001b[1;32m----> 1\u001b[1;33m \u001b[0mv\u001b[0m \u001b[1;33m=\u001b[0m \u001b[0mv\u001b[0m\u001b[1;33m[\u001b[0m\u001b[1;33m(\u001b[0m\u001b[0mv\u001b[0m\u001b[1;33m[\u001b[0m\u001b[1;34m'fsource'\u001b[0m\u001b[1;33m]\u001b[0m\u001b[1;33m==\u001b[0m\u001b[1;34m'S'\u001b[0m\u001b[1;33m)\u001b[0m \u001b[1;33m&\u001b[0m \u001b[1;33m(\u001b[0m\u001b[0mv\u001b[0m\u001b[1;33m[\u001b[0m\u001b[1;34m'fprodcl'\u001b[0m\u001b[1;33m]\u001b[0m\u001b[1;33m.\u001b[0m\u001b[0mstr\u001b[0m\u001b[1;33m.\u001b[0m\u001b[0mcontains\u001b[0m\u001b[1;33m(\u001b[0m\u001b[1;34m\"70\"\u001b[0m\u001b[1;33m)\u001b[0m\u001b[1;33m)\u001b[0m \u001b[1;33m|\u001b[0m \u001b[1;33m(\u001b[0m\u001b[0mv\u001b[0m\u001b[1;33m[\u001b[0m\u001b[1;34m'fprodcl'\u001b[0m\u001b[1;33m]\u001b[0m\u001b[1;33m.\u001b[0m\u001b[0mstr\u001b[0m\u001b[1;33m.\u001b[0m\u001b[0mcontains\u001b[0m\u001b[1;33m(\u001b[0m\u001b[1;34m\"40\"\u001b[0m\u001b[1;33m)\u001b[0m\u001b[1;33m)\u001b[0m\u001b[1;33m]\u001b[0m\u001b[1;33m\u001b[0m\u001b[1;33m\u001b[0m\u001b[0m\n\u001b[0m",
      "\u001b[1;32m~\\AppData\\Local\\Continuum\\lib\\site-packages\\pandas\\core\\frame.py\u001b[0m in \u001b[0;36m__getitem__\u001b[1;34m(self, key)\u001b[0m\n\u001b[0;32m   2925\u001b[0m             \u001b[1;32mif\u001b[0m \u001b[0mself\u001b[0m\u001b[1;33m.\u001b[0m\u001b[0mcolumns\u001b[0m\u001b[1;33m.\u001b[0m\u001b[0mnlevels\u001b[0m \u001b[1;33m>\u001b[0m \u001b[1;36m1\u001b[0m\u001b[1;33m:\u001b[0m\u001b[1;33m\u001b[0m\u001b[1;33m\u001b[0m\u001b[0m\n\u001b[0;32m   2926\u001b[0m                 \u001b[1;32mreturn\u001b[0m \u001b[0mself\u001b[0m\u001b[1;33m.\u001b[0m\u001b[0m_getitem_multilevel\u001b[0m\u001b[1;33m(\u001b[0m\u001b[0mkey\u001b[0m\u001b[1;33m)\u001b[0m\u001b[1;33m\u001b[0m\u001b[1;33m\u001b[0m\u001b[0m\n\u001b[1;32m-> 2927\u001b[1;33m             \u001b[0mindexer\u001b[0m \u001b[1;33m=\u001b[0m \u001b[0mself\u001b[0m\u001b[1;33m.\u001b[0m\u001b[0mcolumns\u001b[0m\u001b[1;33m.\u001b[0m\u001b[0mget_loc\u001b[0m\u001b[1;33m(\u001b[0m\u001b[0mkey\u001b[0m\u001b[1;33m)\u001b[0m\u001b[1;33m\u001b[0m\u001b[1;33m\u001b[0m\u001b[0m\n\u001b[0m\u001b[0;32m   2928\u001b[0m             \u001b[1;32mif\u001b[0m \u001b[0mis_integer\u001b[0m\u001b[1;33m(\u001b[0m\u001b[0mindexer\u001b[0m\u001b[1;33m)\u001b[0m\u001b[1;33m:\u001b[0m\u001b[1;33m\u001b[0m\u001b[1;33m\u001b[0m\u001b[0m\n\u001b[0;32m   2929\u001b[0m                 \u001b[0mindexer\u001b[0m \u001b[1;33m=\u001b[0m \u001b[1;33m[\u001b[0m\u001b[0mindexer\u001b[0m\u001b[1;33m]\u001b[0m\u001b[1;33m\u001b[0m\u001b[1;33m\u001b[0m\u001b[0m\n",
      "\u001b[1;32m~\\AppData\\Local\\Continuum\\lib\\site-packages\\pandas\\core\\indexes\\base.py\u001b[0m in \u001b[0;36mget_loc\u001b[1;34m(self, key, method, tolerance)\u001b[0m\n\u001b[0;32m   2657\u001b[0m                 \u001b[1;32mreturn\u001b[0m \u001b[0mself\u001b[0m\u001b[1;33m.\u001b[0m\u001b[0m_engine\u001b[0m\u001b[1;33m.\u001b[0m\u001b[0mget_loc\u001b[0m\u001b[1;33m(\u001b[0m\u001b[0mkey\u001b[0m\u001b[1;33m)\u001b[0m\u001b[1;33m\u001b[0m\u001b[1;33m\u001b[0m\u001b[0m\n\u001b[0;32m   2658\u001b[0m             \u001b[1;32mexcept\u001b[0m \u001b[0mKeyError\u001b[0m\u001b[1;33m:\u001b[0m\u001b[1;33m\u001b[0m\u001b[1;33m\u001b[0m\u001b[0m\n\u001b[1;32m-> 2659\u001b[1;33m                 \u001b[1;32mreturn\u001b[0m \u001b[0mself\u001b[0m\u001b[1;33m.\u001b[0m\u001b[0m_engine\u001b[0m\u001b[1;33m.\u001b[0m\u001b[0mget_loc\u001b[0m\u001b[1;33m(\u001b[0m\u001b[0mself\u001b[0m\u001b[1;33m.\u001b[0m\u001b[0m_maybe_cast_indexer\u001b[0m\u001b[1;33m(\u001b[0m\u001b[0mkey\u001b[0m\u001b[1;33m)\u001b[0m\u001b[1;33m)\u001b[0m\u001b[1;33m\u001b[0m\u001b[1;33m\u001b[0m\u001b[0m\n\u001b[0m\u001b[0;32m   2660\u001b[0m         \u001b[0mindexer\u001b[0m \u001b[1;33m=\u001b[0m \u001b[0mself\u001b[0m\u001b[1;33m.\u001b[0m\u001b[0mget_indexer\u001b[0m\u001b[1;33m(\u001b[0m\u001b[1;33m[\u001b[0m\u001b[0mkey\u001b[0m\u001b[1;33m]\u001b[0m\u001b[1;33m,\u001b[0m \u001b[0mmethod\u001b[0m\u001b[1;33m=\u001b[0m\u001b[0mmethod\u001b[0m\u001b[1;33m,\u001b[0m \u001b[0mtolerance\u001b[0m\u001b[1;33m=\u001b[0m\u001b[0mtolerance\u001b[0m\u001b[1;33m)\u001b[0m\u001b[1;33m\u001b[0m\u001b[1;33m\u001b[0m\u001b[0m\n\u001b[0;32m   2661\u001b[0m         \u001b[1;32mif\u001b[0m \u001b[0mindexer\u001b[0m\u001b[1;33m.\u001b[0m\u001b[0mndim\u001b[0m \u001b[1;33m>\u001b[0m \u001b[1;36m1\u001b[0m \u001b[1;32mor\u001b[0m \u001b[0mindexer\u001b[0m\u001b[1;33m.\u001b[0m\u001b[0msize\u001b[0m \u001b[1;33m>\u001b[0m \u001b[1;36m1\u001b[0m\u001b[1;33m:\u001b[0m\u001b[1;33m\u001b[0m\u001b[1;33m\u001b[0m\u001b[0m\n",
      "\u001b[1;32mpandas/_libs/index.pyx\u001b[0m in \u001b[0;36mpandas._libs.index.IndexEngine.get_loc\u001b[1;34m()\u001b[0m\n",
      "\u001b[1;32mpandas/_libs/index.pyx\u001b[0m in \u001b[0;36mpandas._libs.index.IndexEngine.get_loc\u001b[1;34m()\u001b[0m\n",
      "\u001b[1;32mpandas/_libs/hashtable_class_helper.pxi\u001b[0m in \u001b[0;36mpandas._libs.hashtable.PyObjectHashTable.get_item\u001b[1;34m()\u001b[0m\n",
      "\u001b[1;32mpandas/_libs/hashtable_class_helper.pxi\u001b[0m in \u001b[0;36mpandas._libs.hashtable.PyObjectHashTable.get_item\u001b[1;34m()\u001b[0m\n",
      "\u001b[1;31mKeyError\u001b[0m: 'fsource'"
     ]
    }
   ],
   "source": [
    "v = v[(v['fsource']=='S') & (v['fprodcl'].str.contains(\"70\")) | (v['fprodcl'].str.contains(\"40\"))]"
   ]
  },
  {
   "cell_type": "code",
   "execution_count": 5,
   "metadata": {},
   "outputs": [
    {
     "data": {
      "text/html": [
       "<div>\n",
       "<style scoped>\n",
       "    .dataframe tbody tr th:only-of-type {\n",
       "        vertical-align: middle;\n",
       "    }\n",
       "\n",
       "    .dataframe tbody tr th {\n",
       "        vertical-align: top;\n",
       "    }\n",
       "\n",
       "    .dataframe thead th {\n",
       "        text-align: right;\n",
       "    }\n",
       "</style>\n",
       "<table border=\"1\" class=\"dataframe\">\n",
       "  <thead>\n",
       "    <tr style=\"text-align: right;\">\n",
       "      <th></th>\n",
       "      <th>fpartno</th>\n",
       "      <th>fpartrev</th>\n",
       "      <th>flot</th>\n",
       "      <th>fonhand</th>\n",
       "      <th>flocation</th>\n",
       "    </tr>\n",
       "  </thead>\n",
       "  <tbody>\n",
       "    <tr>\n",
       "      <th>10462</th>\n",
       "      <td>100372-LF</td>\n",
       "      <td></td>\n",
       "      <td>PG1</td>\n",
       "      <td>1.0</td>\n",
       "      <td>SR</td>\n",
       "    </tr>\n",
       "    <tr>\n",
       "      <th>10691</th>\n",
       "      <td>240476-LF</td>\n",
       "      <td></td>\n",
       "      <td>13</td>\n",
       "      <td>1000.0</td>\n",
       "      <td>SR</td>\n",
       "    </tr>\n",
       "    <tr>\n",
       "      <th>10692</th>\n",
       "      <td>42023-LF</td>\n",
       "      <td></td>\n",
       "      <td>1C</td>\n",
       "      <td>390.0</td>\n",
       "      <td>SR</td>\n",
       "    </tr>\n",
       "    <tr>\n",
       "      <th>10693</th>\n",
       "      <td>24489-LF</td>\n",
       "      <td></td>\n",
       "      <td>MW62620181130</td>\n",
       "      <td>28.0</td>\n",
       "      <td>SR</td>\n",
       "    </tr>\n",
       "    <tr>\n",
       "      <th>10694</th>\n",
       "      <td>42343-LF</td>\n",
       "      <td></td>\n",
       "      <td>1G</td>\n",
       "      <td>2.0</td>\n",
       "      <td>SR</td>\n",
       "    </tr>\n",
       "  </tbody>\n",
       "</table>\n",
       "</div>"
      ],
      "text/plain": [
       "         fpartno fpartrev           flot  fonhand       flocation\n",
       "10462  100372-LF                     PG1      1.0  SR            \n",
       "10691  240476-LF                      13   1000.0  SR            \n",
       "10692   42023-LF                      1C    390.0  SR            \n",
       "10693   24489-LF           MW62620181130     28.0  SR            \n",
       "10694   42343-LF                      1G      2.0  SR            "
      ]
     },
     "execution_count": 5,
     "metadata": {},
     "output_type": "execute_result"
    }
   ],
   "source": [
    "v.head()"
   ]
  },
  {
   "cell_type": "code",
   "execution_count": 7,
   "metadata": {},
   "outputs": [
    {
     "data": {
      "text/plain": [
       "array(['70', '40'], dtype=object)"
      ]
     },
     "execution_count": 7,
     "metadata": {},
     "output_type": "execute_result"
    }
   ],
   "source": [
    "v['fprodcl'].unique()"
   ]
  },
  {
   "cell_type": "code",
   "execution_count": 8,
   "metadata": {},
   "outputs": [
    {
     "data": {
      "text/plain": [
       "fpartno      3310-LF                  \n",
       "fdescript        PCB,5500401878,HORIBA\n",
       "frev                               -  \n",
       "fsource                              S\n",
       "fprodcl                             40\n",
       "Name: 54769, dtype: object"
      ]
     },
     "execution_count": 8,
     "metadata": {},
     "output_type": "execute_result"
    }
   ],
   "source": [
    "v.iloc[-1]"
   ]
  },
  {
   "cell_type": "code",
   "execution_count": 1,
   "metadata": {},
   "outputs": [
    {
     "ename": "NameError",
     "evalue": "name 'v' is not defined",
     "output_type": "error",
     "traceback": [
      "\u001b[1;31m---------------------------------------------------------------------------\u001b[0m",
      "\u001b[1;31mNameError\u001b[0m                                 Traceback (most recent call last)",
      "\u001b[1;32m<ipython-input-1-1a38df68d0ee>\u001b[0m in \u001b[0;36m<module>\u001b[1;34m\u001b[0m\n\u001b[0;32m      1\u001b[0m \u001b[0mlast_upload\u001b[0m \u001b[1;33m=\u001b[0m \u001b[1;36m0\u001b[0m\u001b[1;33m\u001b[0m\u001b[1;33m\u001b[0m\u001b[0m\n\u001b[1;32m----> 2\u001b[1;33m \u001b[0mlatest_data\u001b[0m \u001b[1;33m=\u001b[0m \u001b[0mint\u001b[0m\u001b[1;33m(\u001b[0m\u001b[0mv\u001b[0m\u001b[1;33m.\u001b[0m\u001b[0miloc\u001b[0m\u001b[1;33m[\u001b[0m\u001b[1;33m-\u001b[0m\u001b[1;36m1\u001b[0m\u001b[1;33m]\u001b[0m\u001b[1;33m.\u001b[0m\u001b[0mname\u001b[0m\u001b[1;33m)\u001b[0m\u001b[1;33m\u001b[0m\u001b[1;33m\u001b[0m\u001b[0m\n\u001b[0m\u001b[0;32m      3\u001b[0m \u001b[1;33m\u001b[0m\u001b[0m\n\u001b[0;32m      4\u001b[0m \u001b[0mprint\u001b[0m\u001b[1;33m(\u001b[0m\u001b[0mlen\u001b[0m\u001b[1;33m(\u001b[0m\u001b[0mTable\u001b[0m\u001b[1;33m)\u001b[0m\u001b[1;33m)\u001b[0m\u001b[1;33m\u001b[0m\u001b[1;33m\u001b[0m\u001b[0m\n\u001b[0;32m      5\u001b[0m \u001b[1;32mif\u001b[0m \u001b[0mlast_upload\u001b[0m\u001b[1;33m<\u001b[0m\u001b[0mlastest_data\u001b[0m\u001b[1;33m:\u001b[0m\u001b[1;33m\u001b[0m\u001b[1;33m\u001b[0m\u001b[0m\n",
      "\u001b[1;31mNameError\u001b[0m: name 'v' is not defined"
     ]
    }
   ],
   "source": [
    "last_upload = 0\n",
    "latest_data = int(v.iloc[-1].name)\n",
    "\n",
    "print(len(Table))\n",
    "if last_upload<lastest_data:\n",
    "    last_upload = latest_data"
   ]
  },
  {
   "cell_type": "code",
   "execution_count": 11,
   "metadata": {},
   "outputs": [],
   "source": [
    "url = 'http://188.95.79.97:8081'\n",
    "API_KEY = 'http://188.95.79.97:8081/?f=login&username=PRECISION&password=PRECISION'\n",
    "username = 'precision'\n",
    "password = 'precision'"
   ]
  },
  {
   "cell_type": "code",
   "execution_count": null,
   "metadata": {},
   "outputs": [],
   "source": []
  },
  {
   "cell_type": "code",
   "execution_count": 20,
   "metadata": {},
   "outputs": [],
   "source": [
    "r = requests.get('http://188.95.79.97:8081/?f=login&username=PRECISION&password=PRECISION')"
   ]
  },
  {
   "cell_type": "code",
   "execution_count": 21,
   "metadata": {},
   "outputs": [
    {
     "data": {
      "text/plain": [
       "'<?xml version=\"1.0\" encoding=\"utf-8\" ?><resp f=\"login\" apiver=\"2.15\" err=\"0\" errdesc=\"done\"><out><token>163548845221</token></out><resdetail>warning: user was already logged</resdetail></resp>'"
      ]
     },
     "execution_count": 21,
     "metadata": {},
     "output_type": "execute_result"
    }
   ],
   "source": [
    "r.text"
   ]
  },
  {
   "cell_type": "code",
   "execution_count": 22,
   "metadata": {},
   "outputs": [],
   "source": [
    "token = 163548845221"
   ]
  },
  {
   "cell_type": "code",
   "execution_count": 23,
   "metadata": {},
   "outputs": [],
   "source": [
    "r = requests.get(f'http://188.95.79.97:8081/?f=item_getlist&tkn={token}')"
   ]
  },
  {
   "cell_type": "code",
   "execution_count": 27,
   "metadata": {},
   "outputs": [
    {
     "data": {
      "text/plain": [
       "'<?xml version=\"1.0\" encoding=\"utf-8\" ?><resp f=\"item_getlist\" apiver=\"2.15\" err=\"0\" errdesc=\"done\" totfound=\"62\" lastfound=\"61\"><out><itemlist><iteminfo><id>1</id><code>TEST ITEM</code><description>EFM TEST</description><tech>1</tech><notes /><supplier /><maxlying>0</maxlying><refuse>0</refuse><minsupply>0</minsupply><defaultquantity>0</defaultquantity><mslhour>0</mslhour><partialuse>false</partialuse><price>0</price><stockquantity>0</stockquantity><incomingquantity>0</incomingquantity><rformat /><splicinginfo /></iteminfo><iteminfo><id>2</id><code>TEST2</code><description>EFM TEST</description><tech>1</tech><notes /><supplier /><maxlying>0</maxlying><refuse>0</refuse><minsupply>0</minsupply><defaultquantity>0</defaultquantity><mslhour>0</mslhour><partialuse>false</partialuse><price>0</price><stockquantity>0</stockquantity><incomingquantity>0</incomingquantity><rformat /><splicinginfo /></iteminfo><iteminfo><id>3</id><code>RYT1136714/2</code><description>ERICSSON PART</description><tech>1</tech><notes /><supplier /><maxlying>0</maxlying><refuse>0</refuse><minsupply>0</minsupply><defaultquantity>0</defaultquantity><mslhour>0</mslhour><partialuse>false</partialuse><price>0</price><stockquantity>0</stockquantity><incomingquantity>0</incomingquantity><rformat /><splicinginfo /></iteminfo><iteminfo><id>4</id><code>P0006</code><description>M1</description><tech>1</tech><notes /><supplier /><maxlying>0</maxlying><refuse>0</refuse><minsupply>0</minsupply><defaultquantity>0</defaultquantity><mslhour>0</mslhour><partialuse>false</partialuse><price>0</price><stockquantity>0</stockquantity><incomingquantity>0</incomingquantity><rformat /><splicinginfo /></iteminfo><iteminfo><id>5</id><code>PART_A</code><description>NONE</description><tech>1</tech><notes /><supplier /><maxlying>0</maxlying><refuse>0</refuse><minsupply>0</minsupply><defaultquantity>0</defaultquantity><mslhour>0</mslhour><partialuse>false</partialuse><price>0</price><stockquantity>6072000</stockquantity><incomingquantity>0</incomingquantity><rformat /><splicinginfo /></iteminfo><iteminfo><id>6</id><code>PART_C</code><description>NONE</description><tech>1</tech><notes /><supplier /><maxlying>0</maxlying><refuse>0</refuse><minsupply>0</minsupply><defaultquantity>0</defaultquantity><mslhour>0</mslhour><partialuse>false</partialuse><price>0</price><stockquantity>510000</stockquantity><incomingquantity>0</incomingquantity><rformat /><splicinginfo /></iteminfo><iteminfo><id>7</id><code>PART_B</code><description>NONE</description><tech>1</tech><notes /><supplier /><maxlying>0</maxlying><refuse>0</refuse><minsupply>0</minsupply><defaultquantity>0</defaultquantity><mslhour>0</mslhour><partialuse>false</partialuse><price>0</price><stockquantity>1500000</stockquantity><incomingquantity>0</incomingquantity><rformat /><splicinginfo /></iteminfo><iteminfo><id>8</id><code>TESTALTEA</code><description>TEST ARTICOLO ALTEA</description><tech>1</tech><notes /><supplier /><maxlying>0</maxlying><refuse>0</refuse><minsupply>0</minsupply><defaultquantity>0</defaultquantity><mslhour>0</mslhour><partialuse>false</partialuse><price>0</price><stockquantity>0</stockquantity><incomingquantity>0</incomingquantity><rformat /><splicinginfo /></iteminfo><iteminfo><id>9</id><code>2317854</code><description>754621</description><tech>1</tech><notes /><supplier /><maxlying>0</maxlying><refuse>0</refuse><minsupply>0</minsupply><defaultquantity>0</defaultquantity><mslhour>0</mslhour><partialuse>false</partialuse><price>0</price><stockquantity>0</stockquantity><incomingquantity>0</incomingquantity><rformat /><splicinginfo /></iteminfo><iteminfo><id>10</id><code>833554A</code><description>NONE</description><tech>1</tech><notes /><supplier /><maxlying>0</maxlying><refuse>0</refuse><minsupply>0</minsupply><defaultquantity>0</defaultquantity><mslhour>0</mslhour><partialuse>false</partialuse><price>0</price><stockquantity>0</stockquantity><incomingquantity>0</incomingquantity><rformat /><splicinginfo /></iteminfo><iteminfo><id>11</id><code>TESTQUOTE</code><description>PROVA DECODIFICA VIRGOLETTE VIA API \"</description><tech>1</tech><notes /><supplier /><maxlying>0</maxlying><refuse>0</refuse><minsupply>0</minsupply><defaultquantity>0</defaultquantity><mslhour>0</mslhour><partialuse>false</partialuse><price>0</price><stockquantity>0</stockquantity><incomingquantity>0</incomingquantity><rformat /><splicinginfo /></iteminfo><iteminfo><id>12</id><code>ART000100</code><description>SOFTWARE FIREWALL</description><tech>1</tech><notes /><supplier /><maxlying>0</maxlying><refuse>0</refuse><minsupply>0</minsupply><defaultquantity>0</defaultquantity><mslhour>0</mslhour><partialuse>false</partialuse><price>0</price><stockquantity>0</stockquantity><incomingquantity>0</incomingquantity><rformat /><splicinginfo /></iteminfo><iteminfo><id>13</id><code>WSV             </code><description>GUANTI BIANCHI</description><tech>1</tech><notes /><supplier /><maxlying>0</maxlying><refuse>0</refuse><minsupply>0</minsupply><defaultquantity>0</defaultquantity><mslhour>0</mslhour><partialuse>false</partialuse><price>0</price><stockquantity>0</stockquantity><incomingquantity>0</incomingquantity><rformat /><splicinginfo /></iteminfo><iteminfo><id>14</id><code>WSV00020        </code><description>CARTA OPTIMA PRIMA SCELTA</description><tech>1</tech><notes /><supplier /><maxlying>0</maxlying><refuse>0</refuse><minsupply>0</minsupply><defaultquantity>0</defaultquantity><mslhour>0</mslhour><partialuse>false</partialuse><price>0</price><stockquantity>0</stockquantity><incomingquantity>0</incomingquantity><rformat /><splicinginfo /></iteminfo><iteminfo><id>15</id><code>IFP2102010      </code><description>IFP KIT BASE PC</description><tech>1</tech><notes /><supplier /><maxlying>0</maxlying><refuse>0</refuse><minsupply>0</minsupply><defaultquantity>0</defaultquantity><mslhour>0</mslhour><partialuse>false</partialuse><price>0</price><stockquantity>0</stockquantity><incomingquantity>0</incomingquantity><rformat /><splicinginfo /></iteminfo><iteminfo><id>16</id><code>IFP2100430      </code><description>IFP KIT P4 2.7</description><tech>1</tech><notes /><supplier /><maxlying>0</maxlying><refuse>0</refuse><minsupply>0</minsupply><defaultquantity>0</defaultquantity><mslhour>0</mslhour><partialuse>false</partialuse><price>0</price><stockquantity>25000</stockquantity><incomingquantity>0</incomingquantity><rformat /><splicinginfo /></iteminfo><iteminfo><id>17</id><code>IFP3100010      </code><description>IFP TASTIERA</description><tech>1</tech><notes /><supplier /><maxlying>0</maxlying><refuse>0</refuse><minsupply>0</minsupply><defaultquantity>0</defaultquantity><mslhour>0</mslhour><partialuse>false</partialuse><price>0</price><stockquantity>0</stockquantity><incomingquantity>0</incomingquantity><rformat /><splicinginfo /></iteminfo><iteminfo><id>18</id><code>IFP3100020      </code><description>IFP MOUSE</description><tech>1</tech><notes /><supplier /><maxlying>0</maxlying><refuse>0</refuse><minsupply>0</minsupply><defaultquantity>0</defaultquantity><mslhour>0</mslhour><partialuse>false</partialuse><price>0</price><stockquantity>0</stockquantity><incomingquantity>0</incomingquantity><rformat /><splicinginfo /></iteminfo><iteminfo><id>19</id><code>IFP3303020      </code><description>IFP ETICHETTA X CARTONE</description><tech>1</tech><notes /><supplier /><maxlying>0</maxlying><refuse>0</refuse><minsupply>0</minsupply><defaultquantity>0</defaultquantity><mslhour>0</mslhour><partialuse>false</partialuse><price>0</price><stockquantity>0</stockquantity><incomingquantity>0</incomingquantity><rformat /><splicinginfo /></iteminfo><iteminfo><id>21</id><code>ART00100</code><description>SOFTWARE FIREWALL ROSSO e blu</description><tech>1</tech><notes /><supplier /><maxlying>0</maxlying><refuse>0</refuse><minsupply>0</minsupply><defaultquantity>0</defaultquantity><mslhour>0</mslhour><partialuse>false</partialuse><price>0</price><stockquantity>0</stockquantity><incomingquantity>0</incomingquantity><rformat /><splicinginfo /></iteminfo><iteminfo><id>34</id><code>11630-00400</code><description>MATTONCINO LEGA PREFORM. 0402</description><tech>1</tech><notes /><supplier /><maxlying>0</maxlying><refuse>0</refuse><minsupply>0</minsupply><defaultquantity>0</defaultquantity><mslhour>0</mslhour><partialuse>false</partialuse><price>0</price><stockquantity>0</stockquantity><incomingquantity>0</incomingquantity><rformat /><splicinginfo /></iteminfo><iteminfo><id>35</id><code>24120-00900</code><description>ETICHETTA \"PA\" HIGH TEMP 5X5MM. BI</description><tech>1</tech><notes /><supplier /><maxlying>0</maxlying><refuse>0</refuse><minsupply>0</minsupply><defaultquantity>0</defaultquantity><mslhour>0</mslhour><partialuse>false</partialuse><price>0</price><stockquantity>0</stockquantity><incomingquantity>0</incomingquantity><rformat /><splicinginfo /></iteminfo><iteminfo><id>36</id><code>32640-11421</code><description>C.S. FRONTALE LED HI! CHIAVE</description><tech>1</tech><notes /><supplier /><maxlying>0</maxlying><refuse>0</refuse><minsupply>0</minsupply><defaultquantity>0</defaultquantity><mslhour>0</mslhour><partialuse>false</partialuse><price>0</price><stockquantity>0</stockquantity><incomingquantity>0</incomingquantity><rformat /><splicinginfo /></iteminfo><iteminfo><id>37</id><code>32240S00420</code><description>CONN.M.DIR.CS (P.2,54) 4 VIE (2X2)</description><tech>1</tech><notes /><supplier /><maxlying>0</maxlying><refuse>0</refuse><minsupply>0</minsupply><defaultquantity>0</defaultquantity><mslhour>0</mslhour><partialuse>false</partialuse><price>0</price><stockquantity>0</stockquantity><incomingquantity>0</incomingquantity><rformat /><splicinginfo /></iteminfo><iteminfo><id>38</id><code>36006S10910</code><description>CIRC.INT. 74LVC1G14GW SMD</description><tech>1</tech><notes /><supplier /><maxlying>0</maxlying><refuse>0</refuse><minsupply>0</minsupply><defaultquantity>0</defaultquantity><mslhour>0</mslhour><partialuse>false</partialuse><price>0</price><stockquantity>0</stockquantity><incomingquantity>0</incomingquantity><rformat /><splicinginfo /></iteminfo><iteminfo><id>39</id><code>36006S10850</code><description>CIRC.INT. SINGLE G. SMD 74AHC1G125</description><tech>1</tech><notes /><supplier /><maxlying>0</maxlying><refuse>0</refuse><minsupply>0</minsupply><defaultquantity>0</defaultquantity><mslhour>0</mslhour><partialuse>false</partialuse><price>0</price><stockquantity>0</stockquantity><incomingquantity>0</incomingquantity><rformat /><splicinginfo /></iteminfo><iteminfo><id>40</id><code>36006S11210</code><description>CIRC.INT. SINGLE GATE 74HCT1G126GW</description><tech>1</tech><notes /><supplier /><maxlying>0</maxlying><refuse>0</refuse><minsupply>0</minsupply><defaultquantity>0</defaultquantity><mslhour>0</mslhour><partialuse>false</partialuse><price>0</price><stockquantity>0</stockquantity><incomingquantity>0</incomingquantity><rformat /><splicinginfo /></iteminfo><iteminfo><id>41</id><code>36016S60400</code><description>CIRC.INT. TLV70233  3V3 WSON (DSE)</description><tech>1</tech><notes /><supplier /><maxlying>0</maxlying><refuse>0</refuse><minsupply>0</minsupply><defaultquantity>0</defaultquantity><mslhour>0</mslhour><partialuse>false</partialuse><price>0</price><stockquantity>0</stockquantity><incomingquantity>0</incomingquantity><rformat /><splicinginfo /></iteminfo><iteminfo><id>42</id><code>36200S10101</code><description>DIODO SMD 1N4148WS SOD-323</description><tech>1</tech><notes /><supplier /><maxlying>0</maxlying><refuse>0</refuse><minsupply>0</minsupply><defaultquantity>0</defaultquantity><mslhour>0</mslhour><partialuse>false</partialuse><price>0</price><stockquantity>0</stockquantity><incomingquantity>0</incomingquantity><rformat /><splicinginfo /></iteminfo><iteminfo><id>43</id><code>36209S10100</code><description>DIODO TRIPLO NEXPERIA  BAS16V-V</description><tech>1</tech><notes /><supplier /><maxlying>0</maxlying><refuse>0</refuse><minsupply>0</minsupply><defaultquantity>0</defaultquantity><mslhour>0</mslhour><partialuse>false</partialuse><price>0</price><stockquantity>0</stockquantity><incomingquantity>0</incomingquantity><rformat /><splicinginfo /></iteminfo><iteminfo><id>44</id><code>36220S10220</code><description>TRANS. PNP BC807-25</description><tech>1</tech><notes /><supplier /><maxlying>0</maxlying><refuse>0</refuse><minsupply>0</minsupply><defaultquantity>0</defaultquantity><mslhour>0</mslhour><partialuse>false</partialuse><price>0</price><stockquantity>1200000</stockquantity><incomingquantity>0</incomingquantity><rformat /><splicinginfo /></iteminfo><iteminfo><id>45</id><code>36220S90400</code><description>TRANS. NPN NPN NXP PEMH10</description><tech>1</tech><notes /><supplier /><maxlying>0</maxlying><refuse>0</refuse><minsupply>0</minsupply><defaultquantity>0</defaultquantity><mslhour>0</mslhour><partialuse>false</partialuse><price>0</price><stockquantity>0</stockquantity><incomingquantity>0</incomingquantity><rformat /><splicinginfo /></iteminfo><iteminfo><id>46</id><code>36263S60200</code><description>CIRC.INT. TFDU4101-TT3 SMD</description><tech>1</tech><notes /><supplier /><maxlying>0</maxlying><refuse>0</refuse><minsupply>0</minsupply><defaultquantity>0</defaultquantity><mslhour>0</mslhour><partialuse>false</partialuse><price>0</price><stockquantity>0</stockquantity><incomingquantity>0</incomingquantity><rformat /><splicinginfo /></iteminfo><iteminfo><id>47</id><code>36266S604RO</code><description>DIODO LED ROSSO SMD 0603 LSQ976</description><tech>1</tech><notes /><supplier /><maxlying>0</maxlying><refuse>0</refuse><minsupply>0</minsupply><defaultquantity>0</defaultquantity><mslhour>0</mslhour><partialuse>false</partialuse><price>0</price><stockquantity>0</stockquantity><incomingquantity>0</incomingquantity><rformat /><splicinginfo /></iteminfo><iteminfo><id>48</id><code>36266S605VE</code><description>DIODO LED VERDE SMD 0603 LT Q39G</description><tech>1</tech><notes /><supplier /><maxlying>0</maxlying><refuse>0</refuse><minsupply>0</minsupply><defaultquantity>0</defaultquantity><mslhour>0</mslhour><partialuse>false</partialuse><price>0</price><stockquantity>0</stockquantity><incomingquantity>0</incomingquantity><rformat /><splicinginfo /></iteminfo><iteminfo><id>49</id><code>36266S40300</code><description>DIODO LED RGB 90Â° 3.2X1.5X1H WURTH</description><tech>1</tech><notes /><supplier /><maxlying>0</maxlying><refuse>0</refuse><minsupply>0</minsupply><defaultquantity>0</defaultquantity><mslhour>0</mslhour><partialuse>false</partialuse><price>0</price><stockquantity>0</stockquantity><incomingquantity>0</incomingquantity><rformat /><splicinginfo /></iteminfo><iteminfo><id>50</id><code>36623S40121</code><description>COND.CER.CHIP 0603  10PF 25V 5%</description><tech>1</tech><notes /><supplier /><maxlying>0</maxlying><refuse>0</refuse><minsupply>0</minsupply><defaultquantity>0</defaultquantity><mslhour>0</mslhour><partialuse>false</partialuse><price>0</price><stockquantity>0</stockquantity><incomingquantity>0</incomingquantity><rformat /><splicinginfo /></iteminfo><iteminfo><id>51</id><code>36623S60131</code><description>COND.CER.CHIP 0603  1NF 50V X7R 10%</description><tech>1</tech><notes /><supplier /><maxlying>0</maxlying><refuse>0</refuse><minsupply>0</minsupply><defaultquantity>0</defaultquantity><mslhour>0</mslhour><partialuse>false</partialuse><price>0</price><stockquantity>0</stockquantity><incomingquantity>0</incomingquantity><rformat /><splicinginfo /></iteminfo><iteminfo><id>52</id><code>36623S80131</code><description>COND.CER.CHIP 0603 100NF 50V X7R10%</description><tech>1</tech><notes /><supplier /><maxlying>0</maxlying><refuse>0</refuse><minsupply>0</minsupply><defaultquantity>0</defaultquantity><mslhour>0</mslhour><partialuse>false</partialuse><price>0</price><stockquantity>0</stockquantity><incomingquantity>0</incomingquantity><rformat /><splicinginfo /></iteminfo><iteminfo><id>53</id><code>36623S90120</code><description>COND.CER.CHIP 0603  1UF 16V X5R 10%</description><tech>1</tech><notes /><supplier /><maxlying>0</maxlying><refuse>0</refuse><minsupply>0</minsupply><defaultquantity>0</defaultquantity><mslhour>0</mslhour><partialuse>false</partialuse><price>0</price><stockquantity>0</stockquantity><incomingquantity>0</incomingquantity><rformat /><splicinginfo /></iteminfo><iteminfo><id>54</id><code>36623S96620</code><description>COND.CER.CHIP 0603 4.7UF 6V3 XR510%</description><tech>1</tech><notes /><supplier /><maxlying>0</maxlying><refuse>0</refuse><minsupply>0</minsupply><defaultquantity>0</defaultquantity><mslhour>0</mslhour><partialuse>false</partialuse><price>0</price><stockquantity>0</stockquantity><incomingquantity>0</incomingquantity><rformat /><splicinginfo /></iteminfo><iteminfo><id>55</id><code>36623SA3420</code><description>COND.CER.CHIP 22UF6.3V 20% X5R 0603</description><tech>1</tech><notes /><supplier /><maxlying>0</maxlying><refuse>0</refuse><minsupply>0</minsupply><defaultquantity>0</defaultquantity><mslhour>0</mslhour><partialuse>false</partialuse><price>0</price><stockquantity>0</stockquantity><incomingquantity>0</incomingquantity><rformat /><splicinginfo /></iteminfo><iteminfo><id>56</id><code>36850S00011</code><description>CHIP RES. 0603  0R0 1/10W 5%</description><tech>1</tech><notes /><supplier /><maxlying>0</maxlying><refuse>0</refuse><minsupply>0</minsupply><defaultquantity>0</defaultquantity><mslhour>0</mslhour><partialuse>false</partialuse><price>0</price><stockquantity>0</stockquantity><incomingquantity>0</incomingquantity><rformat /><splicinginfo /></iteminfo><iteminfo><id>57</id><code>36850S46611</code><description>CHIP RES. 0603  47R 1/10W 5%</description><tech>1</tech><notes /><supplier /><maxlying>0</maxlying><refuse>0</refuse><minsupply>0</minsupply><defaultquantity>0</defaultquantity><mslhour>0</mslhour><partialuse>false</partialuse><price>0</price><stockquantity>0</stockquantity><incomingquantity>0</incomingquantity><rformat /><splicinginfo /></iteminfo><iteminfo><id>58</id><code>36850S54211</code><description>CHIP RES. 0603 270R 1/10W 5%</description><tech>1</tech><notes /><supplier /><maxlying>0</maxlying><refuse>0</refuse><minsupply>0</minsupply><defaultquantity>0</defaultquantity><mslhour>0</mslhour><partialuse>false</partialuse><price>0</price><stockquantity>0</stockquantity><incomingquantity>0</incomingquantity><rformat /><splicinginfo /></iteminfo><iteminfo><id>59</id><code>36850S55111</code><description>CHIP RES. 0603 330R 1/10W 5%</description><tech>1</tech><notes /><supplier /><maxlying>0</maxlying><refuse>0</refuse><minsupply>0</minsupply><defaultquantity>0</defaultquantity><mslhour>0</mslhour><partialuse>false</partialuse><price>0</price><stockquantity>0</stockquantity><incomingquantity>0</incomingquantity><rformat /><splicinginfo /></iteminfo><iteminfo><id>60</id><code>36850S56611</code><description>CHIP RES. 0603 470R 1/10W 5%</description><tech>1</tech><notes /><supplier /><maxlying>0</maxlying><refuse>0</refuse><minsupply>0</minsupply><defaultquantity>0</defaultquantity><mslhour>0</mslhour><partialuse>false</partialuse><price>0</price><stockquantity>0</stockquantity><incomingquantity>0</incomingquantity><rformat /><splicinginfo /></iteminfo><iteminfo><id>61</id><code>36850S60911</code><description>CHIP RES. 0603 1K2 1/10W 5%</description><tech>1</tech><notes /><supplier /><maxlying>0</maxlying><refuse>0</refuse><minsupply>0</minsupply><defaultquantity>0</defaultquantity><mslhour>0</mslhour><partialuse>false</partialuse><price>0</price><stockquantity>0</stockquantity><incomingquantity>0</incomingquantity><rformat /><splicinginfo /></iteminfo><iteminfo><id>62</id><code>36850S66611</code><description>CHIP RES. 0603  4K7 1/10W 5%</description><tech>1</tech><notes /><supplier /><maxlying>0</maxlying><refuse>0</refuse><minsupply>0</minsupply><defaultquantity>0</defaultquantity><mslhour>0</mslhour><partialuse>false</partialuse><price>0</price><stockquantity>0</stockquantity><incomingquantity>0</incomingquantity><rformat /><splicinginfo /></iteminfo><iteminfo><id>63</id><code>36850S70111</code><description>CHIP RES. 0603  10K 1/10W 5%</description><tech>1</tech><notes /><supplier /><maxlying>0</maxlying><refuse>0</refuse><minsupply>0</minsupply><defaultquantity>0</defaultquantity><mslhour>0</mslhour><partialuse>false</partialuse><price>0</price><stockquantity>0</stockquantity><incomingquantity>0</incomingquantity><rformat /><splicinginfo /></iteminfo><iteminfo><id>64</id><code>36850S80111</code><description>CHIP RES. 0603 100K 1/10W 5%</description><tech>1</tech><notes /><supplier /><maxlying>0</maxlying><refuse>0</refuse><minsupply>0</minsupply><defaultquantity>0</defaultquantity><mslhour>0</mslhour><partialuse>false</partialuse><price>0</price><stockquantity>0</stockquantity><incomingquantity>0</incomingquantity><rformat /><splicinginfo /></iteminfo><iteminfo><id>65</id><code>36850SA0111</code><description>CHIP RES. 0603  10M 1/10W 5%</description><tech>1</tech><notes /><supplier /><maxlying>0</maxlying><refuse>0</refuse><minsupply>0</minsupply><defaultquantity>0</defaultquantity><mslhour>0</mslhour><partialuse>false</partialuse><price>0</price><stockquantity>0</stockquantity><incomingquantity>0</incomingquantity><rformat /><splicinginfo /></iteminfo><iteminfo><id>66</id><code>36850S86611</code><description>CHIP RES. 0603 470K 1/10W 5%</description><tech>1</tech><notes /><supplier /><maxlying>0</maxlying><refuse>0</refuse><minsupply>0</minsupply><defaultquantity>0</defaultquantity><mslhour>0</mslhour><partialuse>false</partialuse><price>0</price><stockquantity>0</stockquantity><incomingquantity>0</incomingquantity><rformat /><splicinginfo /></iteminfo><iteminfo><id>67</id><code>32240SV1200</code><description>CONN.M.DIR.CS (P.0,80) 12 VIE (2X6)</description><tech>1</tech><notes /><supplier /><maxlying>0</maxlying><refuse>0</refuse><minsupply>0</minsupply><defaultquantity>0</defaultquantity><mslhour>0</mslhour><partialuse>false</partialuse><price>0</price><stockquantity>0</stockquantity><incomingquantity>0</incomingquantity><rformat /><splicinginfo /></iteminfo><iteminfo><id>68</id><code>36266S603BI</code><description>DIODO LED BIANCO 90Â° 2.9X1.3 SMD</description><tech>1</tech><notes /><supplier /><maxlying>0</maxlying><refuse>0</refuse><minsupply>0</minsupply><defaultquantity>0</defaultquantity><mslhour>0</mslhour><partialuse>false</partialuse><price>0</price><stockquantity>0</stockquantity><incomingquantity>0</incomingquantity><rformat /><splicinginfo /></iteminfo><iteminfo><id>69</id><code>TEST3</code><description>COMPONENTE DI TEST</description><tech>1</tech><notes /><supplier /><maxlying>0</maxlying><refuse>0</refuse><minsupply>0</minsupply><defaultquantity>0</defaultquantity><mslhour>0</mslhour><partialuse>false</partialuse><price>0</price><stockquantity>0</stockquantity><incomingquantity>0</incomingquantity><rformat /><splicinginfo /></iteminfo><iteminfo><id>70</id><code>093969333</code><description>TESTE</description><tech>1</tech><notes /><supplier /><maxlying>0</maxlying><refuse>0</refuse><minsupply>0</minsupply><defaultquantity>0</defaultquantity><mslhour>0</mslhour><partialuse>false</partialuse><price>0</price><stockquantity>0</stockquantity><incomingquantity>0</incomingquantity><rformat /><splicinginfo /></iteminfo><iteminfo><id>71</id><code>70-1321-0009</code><description>BJT SMD NPN  0,1A 50V SOT-723-3</description><tech>1</tech><notes /><supplier /><maxlying>0</maxlying><refuse>0</refuse><minsupply>0</minsupply><defaultquantity>0</defaultquantity><mslhour>0</mslhour><partialuse>false</partialuse><price>0</price><stockquantity>0</stockquantity><incomingquantity>0</incomingquantity><rformat /><splicinginfo /></iteminfo><iteminfo><id>72</id><code>70-1321-0008</code><description>BJT SMD NPN  0,1A 50V SOT-723-3</description><tech>1</tech><notes /><supplier /><maxlying>0</maxlying><refuse>0</refuse><minsupply>0</minsupply><defaultquantity>0</defaultquantity><mslhour>0</mslhour><partialuse>false</partialuse><price>0</price><stockquantity>0</stockquantity><incomingquantity>0</incomingquantity><rformat /><splicinginfo /></iteminfo><iteminfo><id>73</id><code>70-1321-0006</code><description>TRANSISTOR SMD</description><tech>1</tech><notes /><supplier /><maxlying>0</maxlying><refuse>0</refuse><minsupply>0</minsupply><defaultquantity>0</defaultquantity><mslhour>0</mslhour><partialuse>false</partialuse><price>0</price><stockquantity>0</stockquantity><incomingquantity>0</incomingquantity><rformat /><splicinginfo /></iteminfo><iteminfo><id>74</id><code>TESTA</code><description>COMPONENTE DI TEST</description><tech>1</tech><notes /><supplier /><maxlying>0</maxlying><refuse>0</refuse><minsupply>0</minsupply><defaultquantity>0</defaultquantity><mslhour>0</mslhour><partialuse>false</partialuse><price>0</price><stockquantity>0</stockquantity><incomingquantity>0</incomingquantity><rformat /><splicinginfo /></iteminfo><iteminfo><id>75</id><code>TEST-A</code><description>COMPONENTE DI TEST</description><tech>1</tech><notes /><supplier /><maxlying>0</maxlying><refuse>0</refuse><minsupply>0</minsupply><defaultquantity>0</defaultquantity><mslhour>0</mslhour><partialuse>false</partialuse><price>0</price><stockquantity>0</stockquantity><incomingquantity>0</incomingquantity><rformat /><splicinginfo /></iteminfo></itemlist></out></resp>'"
      ]
     },
     "execution_count": 27,
     "metadata": {},
     "output_type": "execute_result"
    }
   ],
   "source": [
    "r.text"
   ]
  },
  {
   "cell_type": "code",
   "execution_count": 28,
   "metadata": {},
   "outputs": [
    {
     "ename": "NameError",
     "evalue": "name 'request' is not defined",
     "output_type": "error",
     "traceback": [
      "\u001b[1;31m---------------------------------------------------------------------------\u001b[0m",
      "\u001b[1;31mNameError\u001b[0m                                 Traceback (most recent call last)",
      "\u001b[1;32m<ipython-input-28-228a573d6123>\u001b[0m in \u001b[0;36m<module>\u001b[1;34m\u001b[0m\n\u001b[1;32m----> 1\u001b[1;33m \u001b[0mrequest\u001b[0m\u001b[1;33m.\u001b[0m\u001b[0mget\u001b[0m\u001b[1;33m(\u001b[0m\u001b[1;34m'http://localhost:8081/?f=item_create_or_update&item_code=ITEM_CODE&item_description=ITEM_DESCRIPTION&tkn=<TOKEN>'\u001b[0m\u001b[1;33m)\u001b[0m\u001b[1;33m\u001b[0m\u001b[1;33m\u001b[0m\u001b[0m\n\u001b[0m",
      "\u001b[1;31mNameError\u001b[0m: name 'request' is not defined"
     ]
    }
   ],
   "source": [
    "request.get('http://localhost:8081/?f=item_create_or_update&item_code=ITEM_CODE&item_description=ITEM_DESCRIPTION&tkn=<TOKEN>')"
   ]
  },
  {
   "cell_type": "code",
   "execution_count": null,
   "metadata": {},
   "outputs": [],
   "source": [
    "r = requests.get(f'http://188.95.79.97:8081/?f=item_getlist&tkn={token}')"
   ]
  },
  {
   "cell_type": "code",
   "execution_count": null,
   "metadata": {},
   "outputs": [],
   "source": []
  },
  {
   "cell_type": "code",
   "execution_count": null,
   "metadata": {},
   "outputs": [],
   "source": []
  }
 ],
 "metadata": {
  "kernelspec": {
   "display_name": "Python 3",
   "language": "python",
   "name": "python3"
  },
  "language_info": {
   "codemirror_mode": {
    "name": "ipython",
    "version": 3
   },
   "file_extension": ".py",
   "mimetype": "text/x-python",
   "name": "python",
   "nbconvert_exporter": "python",
   "pygments_lexer": "ipython3",
   "version": "3.7.3"
  }
 },
 "nbformat": 4,
 "nbformat_minor": 2
}
