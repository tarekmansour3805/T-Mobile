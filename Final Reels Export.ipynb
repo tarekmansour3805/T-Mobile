{
 "cells": [
  {
   "cell_type": "code",
   "execution_count": 2,
   "metadata": {},
   "outputs": [],
   "source": [
    "import pandas as pd\n",
    "import numpy as np\n",
    "from sqlalchemy import create_engine\n",
    "import pyodbc \n",
    "db = pyodbc.connect('Driver={SQL Server};'\n",
    "                      'Server=PGI-M2M;'\n",
    "                      'Database=M2MDATA04;'\n",
    "                      'Trusted_Connection=yes;')\n",
    "query = 'select fpartno, fpartrev, fonhand, fbinno, flocation, flot  from dbo.inonhd'\n",
    "v = pd.read_sql_query(query , db)\n",
    "v['fpartno'] = v['fpartno'].str.replace(' ', '')\n",
    "v['flot'] = v['flot'].str.replace(' ', '')\n",
    "v['fonhand'] = v['fonhand'].replace(' ', '')\n",
    "v['fpartrev'] = v['fpartrev'].replace(' ', '')\n",
    "v['flocation'] = v['flocation'].replace(' ', '')\n",
    "v['fbinno'] = v['fbinno'].replace(' ', '')\n",
    "\n",
    "\n",
    "v.replace('', np.nan, inplace=True)\n",
    "v.applymap(lambda x: x.rstrip() if type(x)==str else x)\n",
    "v = v[pd.notnull(v['flot'])]\n",
    "v = v.drop_duplicates('flot',keep = 'first')\n",
    "\n",
    "v = v[(v[['fonhand']] >= 1).all(axis=1)]\n",
    "v.to_csv('062419.csv', index = False)"
   ]
  },
  {
   "cell_type": "code",
   "execution_count": null,
   "metadata": {},
   "outputs": [],
   "source": []
  },
  {
   "cell_type": "code",
   "execution_count": null,
   "metadata": {},
   "outputs": [],
   "source": []
  }
 ],
 "metadata": {
  "kernelspec": {
   "display_name": "Python 3",
   "language": "python",
   "name": "python3"
  },
  "language_info": {
   "codemirror_mode": {
    "name": "ipython",
    "version": 3
   },
   "file_extension": ".py",
   "mimetype": "text/x-python",
   "name": "python",
   "nbconvert_exporter": "python",
   "pygments_lexer": "ipython3",
   "version": "3.7.3"
  }
 },
 "nbformat": 4,
 "nbformat_minor": 2
}
