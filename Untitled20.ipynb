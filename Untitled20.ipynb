{
 "cells": [
  {
   "cell_type": "code",
   "execution_count": 1,
   "metadata": {},
   "outputs": [],
   "source": [
    "import pandas as pd\n",
    "import numpy as np\n",
    "import sqlalchemy as db\n",
    "import pyodbc\n",
    "#import pymssql\n",
    "from sqlalchemy import *\n",
    "from sqlalchemy import Table, MetaData, Column, Integer\n",
    "from sqlalchemy import create_engine\n",
    "from sqlalchemy.types import TypeDecorator, Numeric\n",
    "import datetime"
   ]
  },
  {
   "cell_type": "code",
   "execution_count": 2,
   "metadata": {},
   "outputs": [],
   "source": [
    "import os\n",
    "os.getcwd()\n",
    "os.chdir('C:\\\\Users\\\\tmansour\\\\crons')"
   ]
  },
  {
   "cell_type": "code",
   "execution_count": 3,
   "metadata": {},
   "outputs": [],
   "source": [
    "conn = pyodbc.connect(r'Driver={SQL Server};Server=pgi-m2m;Database=M2Mdata25;Trusted_Connection=yes;')"
   ]
  },
  {
   "cell_type": "code",
   "execution_count": 4,
   "metadata": {},
   "outputs": [
    {
     "data": {
      "text/plain": [
       "<pyodbc.Cursor at 0x1e8b2e216c0>"
      ]
     },
     "execution_count": 4,
     "metadata": {},
     "output_type": "execute_result"
    }
   ],
   "source": [
    "cursor = conn.cursor()\n",
    "#cursor.execute(\"SELECT fpartno, fqty, ftype, fctime_ts, FFROMLOC, FFROMFAC, FMATL, FUSERINFO, FTOBIN FROM intran\")\n",
    "cursor.execute(\"SELECT fbcnum, fbl_lading, fclockout, fclot, fcmpl, fcompqty, fdate, fdlotexp, fempno, ferrbc, ferrlist, ffob, fjobno, flast, flastdt, flead, flreposted, fnction, fnetaddr, fnjobno, fno_boxes, fnoperno, foperno, forg_date, forg_time, fpacklist, fpartno, fpost_strt, fpro_id, frecstat, frework, fscrpqty, fseriesend, fsetup, fshftdt, fshfttm, fship, fshipvia, fshipwght, fsub, ftime, ftojob, transfered from bcshared\")\n",
    "\n",
    "\n",
    "#fbcnum, fbl_lading, fclockout, fclot, fcmpl, fcompqty, fdate, fdlotexp, fempno, ferrbc, ferrlist, ffob, fjobno, flast, flastdt, flead, flreposted, fnction, fnetaddr, fnjobno, fno_boxes, fnoperno, foperno, forg_date, forg_time, fpacklist, fpartno, fpost_strt, fpro_id, frecstat, frework, fscrpqty, fseriesend, fsetup, fshftdt, fshfttm, fship, fshipvia, fshipwght, fsub, ftime, ftojob, transfered\n"
   ]
  },
  {
   "cell_type": "code",
   "execution_count": 5,
   "metadata": {},
   "outputs": [
    {
     "data": {
      "text/html": [
       "<div>\n",
       "<style scoped>\n",
       "    .dataframe tbody tr th:only-of-type {\n",
       "        vertical-align: middle;\n",
       "    }\n",
       "\n",
       "    .dataframe tbody tr th {\n",
       "        vertical-align: top;\n",
       "    }\n",
       "\n",
       "    .dataframe thead th {\n",
       "        text-align: right;\n",
       "    }\n",
       "</style>\n",
       "<table border=\"1\" class=\"dataframe\">\n",
       "  <thead>\n",
       "    <tr style=\"text-align: right;\">\n",
       "      <th></th>\n",
       "      <th>fpartno</th>\n",
       "      <th>lot</th>\n",
       "      <th>fqty</th>\n",
       "    </tr>\n",
       "  </thead>\n",
       "  <tbody>\n",
       "    <tr>\n",
       "      <th>0</th>\n",
       "      <td>36263</td>\n",
       "      <td>BU2</td>\n",
       "      <td>1700</td>\n",
       "    </tr>\n",
       "  </tbody>\n",
       "</table>\n",
       "</div>"
      ],
      "text/plain": [
       "   fpartno  lot  fqty\n",
       "0    36263  BU2  1700"
      ]
     },
     "execution_count": 5,
     "metadata": {},
     "output_type": "execute_result"
    }
   ],
   "source": [
    "from crontab import CronTab\n",
    "import csv\n",
    "\n",
    "df = pd.read_csv('2.txt', sep='\\t',  lineterminator='\\n', names=None)\n",
    "df\n",
    "df.rename(columns={  \n",
    "    'item' : 'fpartno',\n",
    "    'qty\\r' : 'fqty'\n",
    "    \n",
    "}, inplace = True)\n",
    "df"
   ]
  },
  {
   "cell_type": "code",
   "execution_count": 6,
   "metadata": {},
   "outputs": [],
   "source": [
    "item = df.iloc[0, 0]\n",
    "qty = df.iloc[0, 2]\n",
    "lot = df.iloc[0, 1]\n",
    "Current_Date = datetime.datetime.today()\n"
   ]
  },
  {
   "cell_type": "code",
   "execution_count": 7,
   "metadata": {},
   "outputs": [],
   "source": [
    "#cursor.execute(f\"update bcshared SET fcompqty='{qty}' WHERE fpartno = 'y     21160-LF' AND fclot = '{lot}' AND fnetaddr = 'SFC' AND fnction = 'F18' AND fpro_id = '2310' AND fbcnum = '1' AND fempno = 'E0289' AND transfered = '0' AND fbcnum = '1' AND ferrbc = '0' AND flast = '0' AND flreposted = '0' AND fno_boxes = '0' AND fscrpqty = '0' AND fdate = '20190619'\")\n",
    "\n",
    "#cursor.execute(f\"update bcshared SET fclot = 'JUKI' ,fcompqty = '4', fpartno = 'Y   21160-LF', transfered = '0' Where fnction = 'F18' AND fnetaddr='SFM'\")\n",
    "#cursor.execute(\"INSERT INTO bcshared(fpartno, fqty, ftype, fctime_ts, FFROMLOC, FFROMFAC, FMATL, FUSERINFO, FTOBIN) VALUES (?,?,?,?,?,?,?,?,?)\", (item, '30', 'A', Current_Date, 'SR', 'DEFAULT', '0.00945', 'EA', 'testing'))\n",
    "\n",
    "#cursor.execute(f\"update bcshared SET fcompqty='{qty}' WHERE fbcnum = '1' AND fbl_lading = '0' AND fclockout = '0' AND fclot = '{lot}' AND fcmpl = '0' AND fdate = '20190619' AND fdlotexp = '1900-01-01 00:00:00.000' AND fempno = 'E0130' AND ferrbc = '0' AND ferrlist = '0' AND ffob = '0' AND fjobno = '0' AND flast = '0' AND flastdt ='1900-01-01 00:00:00.000' AND flead = 'N' AND flreposted = '0' AND fnction = 'F18' AND fnetaddr = 'SFM' AND fnjobno ='0' AND fno_boxes = '0' AND fnoperno = '0' AND foperno = '0' AND forg_date = '0' AND forg_time = '0' AND fpacklist = '0' AND fpartno = '21160-LF' AND fpost_strt ='0' AND fpro_id = '0' AND frecstat = '0' AND frework = '0' AND fscrpqty = '0' AND fseriesend ='0' AND fsetup = '0' AND fshftdt = '1900-01-01 00:00:00.000' AND fshfttm = '0' AND fship = '0' AND fshipvia = '0' AND fshipwght ='0' AND fsub = '0' AND ftojob = '0' AND transfered = '0'\")\n"
   ]
  },
  {
   "cell_type": "code",
   "execution_count": null,
   "metadata": {},
   "outputs": [],
   "source": []
  },
  {
   "cell_type": "code",
   "execution_count": 30,
   "metadata": {},
   "outputs": [
    {
     "data": {
      "text/plain": [
       "<pyodbc.Cursor at 0x1e8b2e216c0>"
      ]
     },
     "execution_count": 30,
     "metadata": {},
     "output_type": "execute_result"
    }
   ],
   "source": [
    "cursor.execute(\"INSERT INTO bcshared(fcompqty, fbcnum, fbl_lading, fclockout, fclot, fcmpl, fdate, fempno, ferrlist, ffob, fjobno, flead, fnction, fnetaddr, fnjobno, fnoperno, foperno, forg_date, forg_time, fpacklist, fpartno, fpro_id, frecstat, frework, fseriesend, fsetup, fship, fshipvia, fsub, transfered, fdlotexp, ferrbc, flast, flastdt, flreposted, fno_boxes, fpost_strt, fscrpqty,fshftdt,fshfttm,fshipwght,ftime,ftojob) VALUES(?,?,?,?,?,?,?,?,?,?,?,?,?,?,?,?,?,?,?,?,?,?,?,?,?,?,?,?,?,?,?,?,?, ?, ?, ?, ?,?,?,?,?,?,?)\", ('-4', '1', '0', '0', 'JUKI', '0', '20190619', 'E0130', '0', '0', '0', 'N', 'F18', 'SFM', '0', '0', '0', '0', '0', '0', 'Z     53544', '0', '0', '0', '0', '0', '0', '0', '0', '0', Current_Date, '0', '0', Current_Date, '0', '0', '0', '0',Current_Date, '0','0', '0','0'))"
   ]
  },
  {
   "cell_type": "code",
   "execution_count": 31,
   "metadata": {},
   "outputs": [],
   "source": [
    "conn.commit()"
   ]
  },
  {
   "cell_type": "code",
   "execution_count": null,
   "metadata": {},
   "outputs": [],
   "source": []
  }
 ],
 "metadata": {
  "kernelspec": {
   "display_name": "Python 3",
   "language": "python",
   "name": "python3"
  },
  "language_info": {
   "codemirror_mode": {
    "name": "ipython",
    "version": 3
   },
   "file_extension": ".py",
   "mimetype": "text/x-python",
   "name": "python",
   "nbconvert_exporter": "python",
   "pygments_lexer": "ipython3",
   "version": "3.7.3"
  }
 },
 "nbformat": 4,
 "nbformat_minor": 2
}
