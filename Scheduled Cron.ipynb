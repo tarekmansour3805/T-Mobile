{
 "cells": [
  {
   "cell_type": "code",
   "execution_count": 11,
   "metadata": {},
   "outputs": [],
   "source": [
    "import pandas as pd\n",
    "import numpy as np\n",
    "import sqlalchemy as db\n",
    "import pyodbc\n",
    "#import pymssql\n",
    "from sqlalchemy import *\n",
    "from sqlalchemy import Table, MetaData, Column, Integer\n",
    "from sqlalchemy import create_engine\n",
    "from sqlalchemy.types import TypeDecorator, Numeric\n",
    "import datetime"
   ]
  },
  {
   "cell_type": "code",
   "execution_count": 14,
   "metadata": {},
   "outputs": [],
   "source": [
    "import os\n",
    "os.getcwd()\n",
    "os.chdir('C:\\\\Users\\\\tmansour\\\\crons')"
   ]
  },
  {
   "cell_type": "code",
   "execution_count": 15,
   "metadata": {},
   "outputs": [],
   "source": [
    "conn = pyodbc.connect(r'Driver={SQL Server};Server=pgi-m2m;Database=M2Mdata25;Trusted_Connection=yes;')"
   ]
  },
  {
   "cell_type": "code",
   "execution_count": 16,
   "metadata": {},
   "outputs": [
    {
     "data": {
      "text/plain": [
       "<pyodbc.Cursor at 0x2a99dd25648>"
      ]
     },
     "execution_count": 16,
     "metadata": {},
     "output_type": "execute_result"
    }
   ],
   "source": [
    "cursor = conn.cursor()\n",
    "#cursor.execute(\"SELECT fpartno, fqty, ftype, fctime_ts, FFROMLOC, FFROMFAC, FMATL, FUSERINFO, FTOBIN FROM intran\")\n",
    "cursor.execute(\"SELECT fpartno, fonhand, fbinno, flocation, flot, fac FROM inonhd\")"
   ]
  },
  {
   "cell_type": "code",
   "execution_count": 4,
   "metadata": {},
   "outputs": [
    {
     "data": {
      "text/html": [
       "<div>\n",
       "<style scoped>\n",
       "    .dataframe tbody tr th:only-of-type {\n",
       "        vertical-align: middle;\n",
       "    }\n",
       "\n",
       "    .dataframe tbody tr th {\n",
       "        vertical-align: top;\n",
       "    }\n",
       "\n",
       "    .dataframe thead th {\n",
       "        text-align: right;\n",
       "    }\n",
       "</style>\n",
       "<table border=\"1\" class=\"dataframe\">\n",
       "  <thead>\n",
       "    <tr style=\"text-align: right;\">\n",
       "      <th></th>\n",
       "      <th>fpartno</th>\n",
       "      <th>lot</th>\n",
       "      <th>fqty</th>\n",
       "    </tr>\n",
       "  </thead>\n",
       "  <tbody>\n",
       "    <tr>\n",
       "      <th>0</th>\n",
       "      <td>21160-LF</td>\n",
       "      <td>2H1</td>\n",
       "      <td>40</td>\n",
       "    </tr>\n",
       "  </tbody>\n",
       "</table>\n",
       "</div>"
      ],
      "text/plain": [
       "    fpartno  lot  fqty\n",
       "0  21160-LF  2H1    40"
      ]
     },
     "execution_count": 4,
     "metadata": {},
     "output_type": "execute_result"
    }
   ],
   "source": [
    "from crontab import CronTab\n",
    "import csv\n",
    "\n",
    "df = pd.read_csv('1.txt', sep='\\t',  lineterminator='\\n', names=None)\n",
    "df\n",
    "df.rename(columns={  \n",
    "    'item' : 'fpartno',\n",
    "    'qty\\r' : 'fqty'\n",
    "    \n",
    "}, inplace = True)\n",
    "df"
   ]
  },
  {
   "cell_type": "code",
   "execution_count": 5,
   "metadata": {},
   "outputs": [],
   "source": [
    "item = df.iloc[0, 0]\n",
    "qty = df.iloc[0, 2]\n",
    "#lot = df.iloc[0, 1]\n",
    "Current_Date = datetime.datetime.today()\n"
   ]
  },
  {
   "cell_type": "code",
   "execution_count": 6,
   "metadata": {},
   "outputs": [
    {
     "data": {
      "text/plain": [
       "<pyodbc.Cursor at 0x2a99d6a0738>"
      ]
     },
     "execution_count": 6,
     "metadata": {},
     "output_type": "execute_result"
    }
   ],
   "source": [
    "cursor.execute(f\"update inonhd SET fonhand='{qty}' WHERE fpartno = '{item}' AND fbinno = 'JUKI' AND flocation = 'JUKI' AND flot = 'JUKI'\")"
   ]
  },
  {
   "cell_type": "code",
   "execution_count": 7,
   "metadata": {},
   "outputs": [],
   "source": [
    "conn.commit()****"
   ]
  },
  {
   "cell_type": "code",
   "execution_count": 3,
   "metadata": {},
   "outputs": [],
   "source": [
    "import os"
   ]
  },
  {
   "cell_type": "code",
   "execution_count": 18,
   "metadata": {},
   "outputs": [
    {
     "data": {
      "text/plain": [
       "['1.txt', '2.txt']"
      ]
     },
     "execution_count": 18,
     "metadata": {},
     "output_type": "execute_result"
    }
   ],
   "source": [
    "os.listdir('C:/Users/tmansour/crons')"
   ]
  },
  {
   "cell_type": "code",
   "execution_count": null,
   "metadata": {},
   "outputs": [],
   "source": [
    "import os\n",
    "import pandas as pd\n",
    "import time\n",
    "\n",
    "files_uploaded = []\n",
    "n_files = 0\n",
    "directory = os.listdir('C:/Users/tmansour/crons')\n",
    "\n",
    "while True:\n",
    "    \n",
    "    if n_files<len(directory):\n",
    "        n_files = len(directory)\n",
    "        for file in directory:\n",
    "            if file not in files_uploaded:\n",
    "                df = pd.read_csv(file, sep='\\t',  lineterminator='\\n', names=None)\n",
    "                item = df.iloc[0, 0]\n",
    "                qty = df.iloc[0, 2]\n",
    "                #lot = df.iloc[0, 1]\n",
    "                Current_Date = datetime.datetime.today()\n",
    "                conn = pyodbc.connect(r'Driver={SQL Server};Server=pgi-m2m;Database=M2Mdata25;Trusted_Connection=yes;')\n",
    "                cursor = conn.cursor()\n",
    "                #cursor.execute(\"SELECT fpartno, fqty, ftype, fctime_ts, FFROMLOC, FFROMFAC, FMATL, FUSERINFO, FTOBIN FROM intran\")\n",
    "                cursor.execute(\"SELECT fpartno, fonhand, fbinno, flocation, flot, fac FROM inonhd\")\n",
    "                cursor.execute(f\"update inonhd SET fonhand='{qty}' WHERE fpartno = '{item}' AND fbinno = 'JUKI' AND flocation = 'JUKI' AND flot = 'JUKI'\")\n",
    "                conn.commit()\n",
    "                conn.close()\n",
    "                files_uploaded.append(file)\n",
    "                \n",
    "    else:\n",
    "        time.sleep(2)"
   ]
  },
  {
   "cell_type": "code",
   "execution_count": 27,
   "metadata": {},
   "outputs": [],
   "source": []
  },
  {
   "cell_type": "code",
   "execution_count": 31,
   "metadata": {},
   "outputs": [],
   "source": [
    "for file in os.listdir('C:/Users/tmansour/crons'):\n",
    "    if file not in files_uploaded:\n",
    "        df = pd.read_csv(file, sep='\\t',  lineterminator='\\n', names=None)\n",
    "        item = df.iloc[0, 0]\n",
    "        qty = df.iloc[0, 2]\n",
    "        #lot = df.iloc[0, 1]\n",
    "        Current_Date = datetime.datetime.today()\n",
    "        conn = pyodbc.connect(r'Driver={SQL Server};Server=pgi-m2m;Database=M2Mdata25;Trusted_Connection=yes;')\n",
    "        cursor = conn.cursor()\n",
    "        #cursor.execute(\"SELECT fpartno, fqty, ftype, fctime_ts, FFROMLOC, FFROMFAC, FMATL, FUSERINFO, FTOBIN FROM intran\")\n",
    "        cursor.execute(\"SELECT fpartno, fonhand, fbinno, flocation, flot, fac FROM inonhd\")\n",
    "        cursor.execute(f\"update inonhd SET fonhand='{qty}' WHERE fpartno = '{item}' AND fbinno = 'JUKI' AND flocation = 'JUKI' AND flot = 'JUKI'\")\n",
    "        conn.commit()\n",
    "        conn.close()\n",
    "        files_uploaded.append(file)"
   ]
  },
  {
   "cell_type": "code",
   "execution_count": 19,
   "metadata": {},
   "outputs": [
    {
     "data": {
      "text/plain": [
       "2"
      ]
     },
     "execution_count": 19,
     "metadata": {},
     "output_type": "execute_result"
    }
   ],
   "source": [
    "len(os.listdir())"
   ]
  },
  {
   "cell_type": "code",
   "execution_count": 20,
   "metadata": {},
   "outputs": [
    {
     "name": "stdout",
     "output_type": "stream",
     "text": [
      "C:/Users/tmansour/crons\\2.txt\n"
     ]
    }
   ],
   "source": [
    "import glob\n",
    "import os\n",
    "\n",
    "list_of_files = glob.glob('C:/Users/tmansour/crons/*.txt') # * means all if need specific format then *.csv\n",
    "latest_file = max(list_of_files, key=os.path.getctime)\n",
    "print(latest_file)"
   ]
  },
  {
   "cell_type": "code",
   "execution_count": 21,
   "metadata": {},
   "outputs": [],
   "source": [
    "df = pd.read_csv(latest_file, sep='\\t',  lineterminator='\\n', names=None)"
   ]
  },
  {
   "cell_type": "code",
   "execution_count": 22,
   "metadata": {},
   "outputs": [
    {
     "data": {
      "text/html": [
       "<div>\n",
       "<style scoped>\n",
       "    .dataframe tbody tr th:only-of-type {\n",
       "        vertical-align: middle;\n",
       "    }\n",
       "\n",
       "    .dataframe tbody tr th {\n",
       "        vertical-align: top;\n",
       "    }\n",
       "\n",
       "    .dataframe thead th {\n",
       "        text-align: right;\n",
       "    }\n",
       "</style>\n",
       "<table border=\"1\" class=\"dataframe\">\n",
       "  <thead>\n",
       "    <tr style=\"text-align: right;\">\n",
       "      <th></th>\n",
       "      <th>item</th>\n",
       "      <th>lot</th>\n",
       "      <th>qty</th>\n",
       "    </tr>\n",
       "  </thead>\n",
       "  <tbody>\n",
       "    <tr>\n",
       "      <th>0</th>\n",
       "      <td>36263</td>\n",
       "      <td>BU2</td>\n",
       "      <td>1700</td>\n",
       "    </tr>\n",
       "  </tbody>\n",
       "</table>\n",
       "</div>"
      ],
      "text/plain": [
       "    item  lot  qty\\r\n",
       "0  36263  BU2   1700"
      ]
     },
     "execution_count": 22,
     "metadata": {},
     "output_type": "execute_result"
    }
   ],
   "source": [
    "df"
   ]
  },
  {
   "cell_type": "code",
   "execution_count": 23,
   "metadata": {},
   "outputs": [],
   "source": [
    "item = df.iloc[0, 0]\n",
    "qty = df.iloc[0, 2]\n",
    "#lot = df.iloc[0, 1]\n",
    "Current_Date = datetime.datetime.today()\n",
    "conn = pyodbc.connect(r'Driver={SQL Server};Server=pgi-m2m;Database=M2Mdata25;Trusted_Connection=yes;')\n",
    "cursor = conn.cursor()\n",
    "#cursor.execute(\"SELECT fpartno, fqty, ftype, fctime_ts, FFROMLOC, FFROMFAC, FMATL, FUSERINFO, FTOBIN FROM intran\")\n",
    "cursor.execute(\"SELECT fpartno, fonhand, fbinno, flocation, flot, fac FROM inonhd\")\n",
    "cursor.execute(f\"update inonhd SET fonhand='{qty}' WHERE fpartno = '{item}' AND fbinno = 'JUKI' AND flocation = 'JUKI' AND flot = 'JUKI'\")\n",
    "conn.commit()\n",
    "conn.close()"
   ]
  },
  {
   "cell_type": "code",
   "execution_count": null,
   "metadata": {},
   "outputs": [],
   "source": []
  }
 ],
 "metadata": {
  "kernelspec": {
   "display_name": "Python 3",
   "language": "python",
   "name": "python3"
  },
  "language_info": {
   "codemirror_mode": {
    "name": "ipython",
    "version": 3
   },
   "file_extension": ".py",
   "mimetype": "text/x-python",
   "name": "python",
   "nbconvert_exporter": "python",
   "pygments_lexer": "ipython3",
   "version": "3.7.3"
  }
 },
 "nbformat": 4,
 "nbformat_minor": 2
}
