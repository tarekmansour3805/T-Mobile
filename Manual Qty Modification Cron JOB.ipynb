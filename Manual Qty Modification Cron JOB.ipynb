{
 "cells": [
  {
   "cell_type": "code",
   "execution_count": 1,
   "metadata": {},
   "outputs": [],
   "source": [
    "import pandas as pd\n",
    "import numpy as np\n",
    "import sqlalchemy as db\n",
    "import pyodbc\n",
    "#import pymssql\n",
    "from sqlalchemy import *\n",
    "from sqlalchemy import Table, MetaData, Column, Integer\n",
    "from sqlalchemy import create_engine\n",
    "from sqlalchemy.types import TypeDecorator, Numeric\n",
    "import datetime"
   ]
  },
  {
   "cell_type": "code",
   "execution_count": 2,
   "metadata": {},
   "outputs": [
    {
     "data": {
      "text/plain": [
       "<pyodbc.Connection at 0x11e400de780>"
      ]
     },
     "execution_count": 2,
     "metadata": {},
     "output_type": "execute_result"
    }
   ],
   "source": [
    "conn = pyodbc.connect(r'Driver={SQL Server};Server=pgi-m2m;Database=M2Mdata25;Trusted_Connection=yes;')\n",
    "conn"
   ]
  },
  {
   "cell_type": "code",
   "execution_count": 3,
   "metadata": {},
   "outputs": [
    {
     "data": {
      "text/plain": [
       "<pyodbc.Cursor at 0x11e42e60918>"
      ]
     },
     "execution_count": 3,
     "metadata": {},
     "output_type": "execute_result"
    }
   ],
   "source": [
    "cursor = conn.cursor()\n",
    "#cursor.execute(\"SELECT fpartno, fqty, ftype, fctime_ts, FFROMLOC, FFROMFAC, FMATL, FUSERINFO, FTOBIN FROM intran\")\n",
    "cursor.execute(\"SELECT fpartno, fonhand, fbinno, flocation, flot, fac FROM inonhd\")"
   ]
  },
  {
   "cell_type": "code",
   "execution_count": 4,
   "metadata": {},
   "outputs": [
    {
     "data": {
      "text/html": [
       "<div>\n",
       "<style scoped>\n",
       "    .dataframe tbody tr th:only-of-type {\n",
       "        vertical-align: middle;\n",
       "    }\n",
       "\n",
       "    .dataframe tbody tr th {\n",
       "        vertical-align: top;\n",
       "    }\n",
       "\n",
       "    .dataframe thead th {\n",
       "        text-align: right;\n",
       "    }\n",
       "</style>\n",
       "<table border=\"1\" class=\"dataframe\">\n",
       "  <thead>\n",
       "    <tr style=\"text-align: right;\">\n",
       "      <th></th>\n",
       "      <th>fpartno</th>\n",
       "      <th>lot</th>\n",
       "      <th>fqty</th>\n",
       "    </tr>\n",
       "  </thead>\n",
       "  <tbody>\n",
       "    <tr>\n",
       "      <th>0</th>\n",
       "      <td>21160-LF</td>\n",
       "      <td>2H1</td>\n",
       "      <td>20</td>\n",
       "    </tr>\n",
       "  </tbody>\n",
       "</table>\n",
       "</div>"
      ],
      "text/plain": [
       "    fpartno  lot  fqty\n",
       "0  21160-LF  2H1    20"
      ]
     },
     "execution_count": 4,
     "metadata": {},
     "output_type": "execute_result"
    }
   ],
   "source": [
    "from crontab import CronTab\n",
    "import csv\n",
    "\n",
    "df = pd.read_csv('itemized cron.txt', sep='\\t',  lineterminator='\\n', names=None)\n",
    "df\n",
    "df.rename(columns={  \n",
    "    'item' : 'fpartno',\n",
    "    'qty\\r' : 'fqty'\n",
    "    \n",
    "}, inplace = True)\n",
    "df"
   ]
  },
  {
   "cell_type": "code",
   "execution_count": 5,
   "metadata": {},
   "outputs": [],
   "source": [
    "item = df.iloc[0, 0]\n",
    "qty = df.iloc[0, 2]\n",
    "#lot = df.iloc[0, 1]\n",
    "Current_Date = datetime.datetime.today()\n"
   ]
  },
  {
   "cell_type": "code",
   "execution_count": 6,
   "metadata": {},
   "outputs": [
    {
     "data": {
      "text/plain": [
       "<pyodbc.Cursor at 0x11e42e60918>"
      ]
     },
     "execution_count": 6,
     "metadata": {},
     "output_type": "execute_result"
    }
   ],
   "source": [
    "cursor.execute(f\"update inonhd SET fonhand='{qty}' WHERE fpartno = '{item}' AND fbinno = 'JUKI' AND flocation = 'JUKI' AND flot = 'JUKI'\")"
   ]
  },
  {
   "cell_type": "code",
   "execution_count": null,
   "metadata": {},
   "outputs": [],
   "source": []
  }
 ],
 "metadata": {
  "kernelspec": {
   "display_name": "Python 3",
   "language": "python",
   "name": "python3"
  },
  "language_info": {
   "codemirror_mode": {
    "name": "ipython",
    "version": 3
   },
   "file_extension": ".py",
   "mimetype": "text/x-python",
   "name": "python",
   "nbconvert_exporter": "python",
   "pygments_lexer": "ipython3",
   "version": "3.7.3"
  }
 },
 "nbformat": 4,
 "nbformat_minor": 2
}
