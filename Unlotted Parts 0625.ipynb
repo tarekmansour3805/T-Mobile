{
 "cells": [
  {
   "cell_type": "code",
   "execution_count": 1,
   "metadata": {},
   "outputs": [],
   "source": [
    "import pandas as pd\n",
    "import numpy as np\n",
    "from sqlalchemy import create_engine\n",
    "import pyodbc \n",
    "db = pyodbc.connect('Driver={SQL Server};'\n",
    "                      'Server=PGI-M2M;'\n",
    "                      'Database=M2MDATA04;'\n",
    "                      'Trusted_Connection=yes;')"
   ]
  },
  {
   "cell_type": "code",
   "execution_count": 2,
   "metadata": {},
   "outputs": [],
   "source": [
    "query = 'select fpartno, fpartrev, fonhand, fbinno, flocation, flot  from dbo.inonhd'"
   ]
  },
  {
   "cell_type": "code",
   "execution_count": 3,
   "metadata": {},
   "outputs": [],
   "source": [
    "v = pd.read_sql_query(query , db)"
   ]
  },
  {
   "cell_type": "code",
   "execution_count": 4,
   "metadata": {},
   "outputs": [],
   "source": [
    "v['fpartno'] = v['fpartno'].str.replace(' ', '')\n",
    "v['flot'] = v['flot'].str.replace(' ', '')\n",
    "v['fonhand'] = v['fonhand'].replace(' ', '')\n",
    "v['fpartrev'] = v['fpartrev'].replace(' ', '')\n",
    "v['flocation'] = v['flocation'].str.replace(' ', '')\n",
    "v['fbinno'] = v['fbinno'].str.replace(' ', '')\n",
    "\n",
    "v.replace('', np.nan, inplace=True)\n",
    "v.applymap(lambda x: x.rstrip() if type(x)==str else x)\n",
    "#v = v.drop_duplicates('flot',keep = 'first')\n",
    "\n",
    "v = v[v['flot'].isnull()]"
   ]
  },
  {
   "cell_type": "code",
   "execution_count": 5,
   "metadata": {},
   "outputs": [],
   "source": [
    "\n",
    "v = v[~v['flocation'].isin(['AVNET'])]\n",
    "v = v[~v['flocation'].isin(['CABINET'])]\n",
    "v = v[~v['flocation'].isin(['IN'])]\n",
    "v = v[~v['flocation'].isin(['QA'])]\n",
    "v = v[~v['flocation'].isin(['TTI'])]\n",
    "v = v[~v['flocation'].isin(['FG'])]\n",
    "\n",
    "\n",
    "v = v[~v['fbinno'].isin(['BIN-6'])]\n",
    "v = v[~v['fbinno'].isin(['BIN4'])]\n",
    "v = v[~v['fbinno'].isin(['BIN-8'])]\n",
    "v = v[~v['fbinno'].isin(['BIN-7'])]\n",
    "v = v[~v['fbinno'].isin(['BIN-5'])]\n",
    "v = v[~v['fbinno'].isin(['BIN-4'])]\n",
    "v = v[~v['fbinno'].isin(['BIN-3'])]\n",
    "v = v[~v['fbinno'].isin(['BIN-2'])]\n",
    "v = v[~v['fbinno'].isin(['BIN'])]\n",
    "v = v[~v['fbinno'].isin(['COMNET'])]\n",
    "v = v[~v['fbinno'].isin(['LORAC'])]\n",
    "v = v[~v['fbinno'].isin(['PENNY'])]\n",
    "v = v[~v['fbinno'].isin(['MARGARET'])]\n",
    "v = v[~v['fbinno'].isin(['ELAINE'])]\n",
    "v = v[~v['fbinno'].isin(['PROD'])]\n",
    "v = v[~v['fbinno'].isin(['RETURN'])]\n",
    "v = v[~v['fbinno'].isin(['SMT'])]\n",
    "v = v[~v['fbinno'].isin(['REC S3'])]\n",
    "v = v[~v['fbinno'].isin(['REC S1'])]\n",
    "v = v[~v['fbinno'].isin(['WISUITE'])]\n",
    "v = v[~v['fbinno'].isin(['KASPER'])]\n"
   ]
  },
  {
   "cell_type": "code",
   "execution_count": 6,
   "metadata": {},
   "outputs": [],
   "source": [
    "#v.drop(v[v['Age'] < 25].index, inplace = True) "
   ]
  },
  {
   "cell_type": "code",
   "execution_count": null,
   "metadata": {},
   "outputs": [],
   "source": []
  },
  {
   "cell_type": "code",
   "execution_count": 7,
   "metadata": {},
   "outputs": [],
   "source": [
    "v = v.sort_values(['flocation', 'fbinno'], ascending=[1, 0])"
   ]
  },
  {
   "cell_type": "code",
   "execution_count": 8,
   "metadata": {},
   "outputs": [],
   "source": [
    "initial_value = 10000\n",
    "default = '01JK'\n",
    "v['flot'] = range(initial_value, len(v) +initial_value)\n",
    "v['flot'] = \"001JK\" + v['flot'].apply(str)"
   ]
  },
  {
   "cell_type": "code",
   "execution_count": 9,
   "metadata": {},
   "outputs": [],
   "source": [
    "v = v.loc[v['fonhand'] > 0.999]"
   ]
  },
  {
   "cell_type": "code",
   "execution_count": 10,
   "metadata": {},
   "outputs": [],
   "source": [
    "v.to_csv('Unlotted Parts.csv', index = False)"
   ]
  },
  {
   "cell_type": "code",
   "execution_count": null,
   "metadata": {},
   "outputs": [],
   "source": []
  }
 ],
 "metadata": {
  "kernelspec": {
   "display_name": "Python 3",
   "language": "python",
   "name": "python3"
  },
  "language_info": {
   "codemirror_mode": {
    "name": "ipython",
    "version": 3
   },
   "file_extension": ".py",
   "mimetype": "text/x-python",
   "name": "python",
   "nbconvert_exporter": "python",
   "pygments_lexer": "ipython3",
   "version": "3.7.3"
  }
 },
 "nbformat": 4,
 "nbformat_minor": 2
}
