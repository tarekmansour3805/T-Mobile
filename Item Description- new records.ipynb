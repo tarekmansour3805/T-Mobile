{
 "cells": [
  {
   "cell_type": "code",
   "execution_count": 1,
   "metadata": {},
   "outputs": [
    {
     "name": "stdout",
     "output_type": "stream",
     "text": [
      "39645\n"
     ]
    }
   ],
   "source": [
    "import requests \n",
    "from requests.auth import HTTPDigestAuth\n",
    "import pandas as pd\n",
    "import numpy as np\n",
    "from sqlalchemy import create_engine\n",
    "import pyodbc \n",
    "db = pyodbc.connect('Driver={SQL Server};'\n",
    "                      'Server=PGI-M2M;'\n",
    "                      'Database=M2MDATA25;'\n",
    "                      'Trusted_Connection=yes;')\n",
    "\n",
    "\n",
    "\n",
    "query = 'select fpartno, fdescript, frev, fsource, fprodcl, FCUSRCHR3 from inmastx'\n",
    "i = pd.read_sql_query(query , db)\n",
    "\n",
    "\n",
    "i.applymap(lambda x: x.rstrip() if type(x)==str else x)\n",
    "i.replace('', np.nan, inplace=True)\n",
    "\n",
    "i.applymap(lambda x: x.rstrip() if type(x)==str else x)\n",
    "\n",
    "i['fdescript'] = i['fdescript'].str.replace(' ', '')\n",
    "i['fdescript'] = i['fdescript'].str.replace(\",\", \" \")\n",
    "i['fpartno'] = i['fpartno'].str.replace(' ', '')\n",
    "i['fsource'] = i['fsource'].str.replace(' ', '')\n",
    "i['frev'] = i['frev'].str.replace(' ', '')\n",
    "i['fprodcl'] = i['fprodcl'].str.replace(' ', '')\n",
    "i['FCUSRCHR3'] = i['FCUSRCHR3'].str.replace(' ', '')\n",
    "\n",
    "\n",
    "\n",
    "i = i[i.fdescript != '**DONOTUSE**']\n",
    "i= i.drop_duplicates('fpartno',keep = 'first')\n",
    "i = i[(i['fsource']=='S') & (i['fprodcl'].str.contains(\"70\")) | (i['fprodcl'].str.contains(\"40\"))]\n",
    "\n",
    "i.drop(['fprodcl', 'fsource', 'frev'], axis=1, inplace=True)\n",
    "\n",
    "\n",
    "last_upload = 0\n",
    "latest_data = int(i.iloc[-1].name)\n",
    "n = 0\n",
    "\n",
    "print(len(i))\n",
    "if last_upload<latest_data:\n",
    "    n+=1\n",
    "    last_upload = latest_data\n",
    "    i.loc[[latest_data]].to_csv(f'{n}.txt', sep='\\t', index = False)"
   ]
  },
  {
   "cell_type": "code",
   "execution_count": 3,
   "metadata": {},
   "outputs": [
    {
     "data": {
      "text/html": [
       "<div>\n",
       "<style scoped>\n",
       "    .dataframe tbody tr th:only-of-type {\n",
       "        vertical-align: middle;\n",
       "    }\n",
       "\n",
       "    .dataframe tbody tr th {\n",
       "        vertical-align: top;\n",
       "    }\n",
       "\n",
       "    .dataframe thead th {\n",
       "        text-align: right;\n",
       "    }\n",
       "</style>\n",
       "<table border=\"1\" class=\"dataframe\">\n",
       "  <thead>\n",
       "    <tr style=\"text-align: right;\">\n",
       "      <th></th>\n",
       "      <th>fpartno</th>\n",
       "      <th>fdescript</th>\n",
       "      <th>FCUSRCHR3</th>\n",
       "    </tr>\n",
       "  </thead>\n",
       "  <tbody>\n",
       "    <tr>\n",
       "      <th>54773</th>\n",
       "      <td>9999-LF</td>\n",
       "      <td>SMIND 47UH 1210 PBFREE</td>\n",
       "      <td>3</td>\n",
       "    </tr>\n",
       "  </tbody>\n",
       "</table>\n",
       "</div>"
      ],
      "text/plain": [
       "       fpartno               fdescript FCUSRCHR3\n",
       "54773  9999-LF  SMIND 47UH 1210 PBFREE         3"
      ]
     },
     "execution_count": 3,
     "metadata": {},
     "output_type": "execute_result"
    }
   ],
   "source": [
    "i"
   ]
  },
  {
   "cell_type": "code",
   "execution_count": null,
   "metadata": {},
   "outputs": [],
   "source": []
  }
 ],
 "metadata": {
  "kernelspec": {
   "display_name": "Python 3",
   "language": "python",
   "name": "python3"
  },
  "language_info": {
   "codemirror_mode": {
    "name": "ipython",
    "version": 3
   },
   "file_extension": ".py",
   "mimetype": "text/x-python",
   "name": "python",
   "nbconvert_exporter": "python",
   "pygments_lexer": "ipython3",
   "version": "3.7.3"
  }
 },
 "nbformat": 4,
 "nbformat_minor": 2
}
